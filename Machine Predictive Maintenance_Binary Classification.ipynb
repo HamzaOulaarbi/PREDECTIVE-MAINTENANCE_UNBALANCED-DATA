{
 "cells": [
  {
   "cell_type": "code",
   "execution_count": 124,
   "id": "3ecc300a",
   "metadata": {},
   "outputs": [],
   "source": [
    "import numpy as np\n",
    "import pandas as pd\n",
    "import seaborn as sns\n",
    "import matplotlib.pyplot as plt\n",
    "from tqdm import tqdm\n",
    "\n",
    "#Common Model Algorithms\n",
    "from sklearn.linear_model import SGDClassifier\n",
    "from sklearn.linear_model import LogisticRegression\n",
    "from sklearn.discriminant_analysis import LinearDiscriminantAnalysis\n",
    "from sklearn.neighbors import KNeighborsClassifier\n",
    "from sklearn.svm import SVC\n",
    "from xgboost import XGBClassifier\n",
    "from sklearn.tree import DecisionTreeClassifier\n",
    "from sklearn.ensemble import RandomForestClassifier, AdaBoostClassifier, GradientBoostingClassifier, VotingClassifier;\n",
    "from sklearn.neural_network import MLPClassifier\n",
    "\n",
    "from sklearn.model_selection import train_test_split\n",
    "from sklearn.preprocessing import MinMaxScaler\n",
    "from sklearn.preprocessing import LabelEncoder\n",
    "\n",
    "\n",
    "#scorring \n",
    "from sklearn.metrics import recall_score,accuracy_score,precision_score,f1_score\n",
    "from sklearn.metrics import classification_report\n",
    "from sklearn.metrics import confusion_matrix\n",
    "\n",
    "#Echantillonnage \n",
    "from imblearn.under_sampling import RandomUnderSampler \n",
    "from imblearn.under_sampling import NearMiss\n",
    "from imblearn.over_sampling import SMOTE\n",
    "from imblearn.over_sampling import ADASYN\n",
    "from imblearn.combine import SMOTETomek\n",
    "\n",
    "from imblearn.ensemble import RUSBoostClassifier,BalancedBaggingClassifier,BalancedRandomForestClassifier\n",
    "\n",
    "import warnings\n",
    "warnings.filterwarnings(\"ignore\", category=DeprecationWarning)\n",
    "warnings.filterwarnings(\"ignore\", category=UserWarning)\n"
   ]
  },
  {
   "cell_type": "code",
   "execution_count": 2,
   "id": "b1bacf58",
   "metadata": {},
   "outputs": [
    {
     "data": {
      "text/html": [
       "<div>\n",
       "<style scoped>\n",
       "    .dataframe tbody tr th:only-of-type {\n",
       "        vertical-align: middle;\n",
       "    }\n",
       "\n",
       "    .dataframe tbody tr th {\n",
       "        vertical-align: top;\n",
       "    }\n",
       "\n",
       "    .dataframe thead th {\n",
       "        text-align: right;\n",
       "    }\n",
       "</style>\n",
       "<table border=\"1\" class=\"dataframe\">\n",
       "  <thead>\n",
       "    <tr style=\"text-align: right;\">\n",
       "      <th></th>\n",
       "      <th>UDI</th>\n",
       "      <th>Product ID</th>\n",
       "      <th>Type</th>\n",
       "      <th>Air temperature [K]</th>\n",
       "      <th>Process temperature [K]</th>\n",
       "      <th>Rotational speed [rpm]</th>\n",
       "      <th>Torque [Nm]</th>\n",
       "      <th>Tool wear [min]</th>\n",
       "      <th>Target</th>\n",
       "      <th>Failure Type</th>\n",
       "    </tr>\n",
       "  </thead>\n",
       "  <tbody>\n",
       "    <tr>\n",
       "      <th>0</th>\n",
       "      <td>1</td>\n",
       "      <td>M14860</td>\n",
       "      <td>M</td>\n",
       "      <td>298.1</td>\n",
       "      <td>308.6</td>\n",
       "      <td>1551</td>\n",
       "      <td>42.8</td>\n",
       "      <td>0</td>\n",
       "      <td>0</td>\n",
       "      <td>No Failure</td>\n",
       "    </tr>\n",
       "    <tr>\n",
       "      <th>1</th>\n",
       "      <td>2</td>\n",
       "      <td>L47181</td>\n",
       "      <td>L</td>\n",
       "      <td>298.2</td>\n",
       "      <td>308.7</td>\n",
       "      <td>1408</td>\n",
       "      <td>46.3</td>\n",
       "      <td>3</td>\n",
       "      <td>0</td>\n",
       "      <td>No Failure</td>\n",
       "    </tr>\n",
       "    <tr>\n",
       "      <th>2</th>\n",
       "      <td>3</td>\n",
       "      <td>L47182</td>\n",
       "      <td>L</td>\n",
       "      <td>298.1</td>\n",
       "      <td>308.5</td>\n",
       "      <td>1498</td>\n",
       "      <td>49.4</td>\n",
       "      <td>5</td>\n",
       "      <td>0</td>\n",
       "      <td>No Failure</td>\n",
       "    </tr>\n",
       "    <tr>\n",
       "      <th>3</th>\n",
       "      <td>4</td>\n",
       "      <td>L47183</td>\n",
       "      <td>L</td>\n",
       "      <td>298.2</td>\n",
       "      <td>308.6</td>\n",
       "      <td>1433</td>\n",
       "      <td>39.5</td>\n",
       "      <td>7</td>\n",
       "      <td>0</td>\n",
       "      <td>No Failure</td>\n",
       "    </tr>\n",
       "    <tr>\n",
       "      <th>4</th>\n",
       "      <td>5</td>\n",
       "      <td>L47184</td>\n",
       "      <td>L</td>\n",
       "      <td>298.2</td>\n",
       "      <td>308.7</td>\n",
       "      <td>1408</td>\n",
       "      <td>40.0</td>\n",
       "      <td>9</td>\n",
       "      <td>0</td>\n",
       "      <td>No Failure</td>\n",
       "    </tr>\n",
       "    <tr>\n",
       "      <th>...</th>\n",
       "      <td>...</td>\n",
       "      <td>...</td>\n",
       "      <td>...</td>\n",
       "      <td>...</td>\n",
       "      <td>...</td>\n",
       "      <td>...</td>\n",
       "      <td>...</td>\n",
       "      <td>...</td>\n",
       "      <td>...</td>\n",
       "      <td>...</td>\n",
       "    </tr>\n",
       "    <tr>\n",
       "      <th>9995</th>\n",
       "      <td>9996</td>\n",
       "      <td>M24855</td>\n",
       "      <td>M</td>\n",
       "      <td>298.8</td>\n",
       "      <td>308.4</td>\n",
       "      <td>1604</td>\n",
       "      <td>29.5</td>\n",
       "      <td>14</td>\n",
       "      <td>0</td>\n",
       "      <td>No Failure</td>\n",
       "    </tr>\n",
       "    <tr>\n",
       "      <th>9996</th>\n",
       "      <td>9997</td>\n",
       "      <td>H39410</td>\n",
       "      <td>H</td>\n",
       "      <td>298.9</td>\n",
       "      <td>308.4</td>\n",
       "      <td>1632</td>\n",
       "      <td>31.8</td>\n",
       "      <td>17</td>\n",
       "      <td>0</td>\n",
       "      <td>No Failure</td>\n",
       "    </tr>\n",
       "    <tr>\n",
       "      <th>9997</th>\n",
       "      <td>9998</td>\n",
       "      <td>M24857</td>\n",
       "      <td>M</td>\n",
       "      <td>299.0</td>\n",
       "      <td>308.6</td>\n",
       "      <td>1645</td>\n",
       "      <td>33.4</td>\n",
       "      <td>22</td>\n",
       "      <td>0</td>\n",
       "      <td>No Failure</td>\n",
       "    </tr>\n",
       "    <tr>\n",
       "      <th>9998</th>\n",
       "      <td>9999</td>\n",
       "      <td>H39412</td>\n",
       "      <td>H</td>\n",
       "      <td>299.0</td>\n",
       "      <td>308.7</td>\n",
       "      <td>1408</td>\n",
       "      <td>48.5</td>\n",
       "      <td>25</td>\n",
       "      <td>0</td>\n",
       "      <td>No Failure</td>\n",
       "    </tr>\n",
       "    <tr>\n",
       "      <th>9999</th>\n",
       "      <td>10000</td>\n",
       "      <td>M24859</td>\n",
       "      <td>M</td>\n",
       "      <td>299.0</td>\n",
       "      <td>308.7</td>\n",
       "      <td>1500</td>\n",
       "      <td>40.2</td>\n",
       "      <td>30</td>\n",
       "      <td>0</td>\n",
       "      <td>No Failure</td>\n",
       "    </tr>\n",
       "  </tbody>\n",
       "</table>\n",
       "<p>10000 rows × 10 columns</p>\n",
       "</div>"
      ],
      "text/plain": [
       "        UDI Product ID Type  Air temperature [K]  Process temperature [K]  \\\n",
       "0         1     M14860    M                298.1                    308.6   \n",
       "1         2     L47181    L                298.2                    308.7   \n",
       "2         3     L47182    L                298.1                    308.5   \n",
       "3         4     L47183    L                298.2                    308.6   \n",
       "4         5     L47184    L                298.2                    308.7   \n",
       "...     ...        ...  ...                  ...                      ...   \n",
       "9995   9996     M24855    M                298.8                    308.4   \n",
       "9996   9997     H39410    H                298.9                    308.4   \n",
       "9997   9998     M24857    M                299.0                    308.6   \n",
       "9998   9999     H39412    H                299.0                    308.7   \n",
       "9999  10000     M24859    M                299.0                    308.7   \n",
       "\n",
       "      Rotational speed [rpm]  Torque [Nm]  Tool wear [min]  Target  \\\n",
       "0                       1551         42.8                0       0   \n",
       "1                       1408         46.3                3       0   \n",
       "2                       1498         49.4                5       0   \n",
       "3                       1433         39.5                7       0   \n",
       "4                       1408         40.0                9       0   \n",
       "...                      ...          ...              ...     ...   \n",
       "9995                    1604         29.5               14       0   \n",
       "9996                    1632         31.8               17       0   \n",
       "9997                    1645         33.4               22       0   \n",
       "9998                    1408         48.5               25       0   \n",
       "9999                    1500         40.2               30       0   \n",
       "\n",
       "     Failure Type  \n",
       "0      No Failure  \n",
       "1      No Failure  \n",
       "2      No Failure  \n",
       "3      No Failure  \n",
       "4      No Failure  \n",
       "...           ...  \n",
       "9995   No Failure  \n",
       "9996   No Failure  \n",
       "9997   No Failure  \n",
       "9998   No Failure  \n",
       "9999   No Failure  \n",
       "\n",
       "[10000 rows x 10 columns]"
      ]
     },
     "execution_count": 2,
     "metadata": {},
     "output_type": "execute_result"
    }
   ],
   "source": [
    "df=pd.read_csv('predictive_maintenance.csv')\n",
    "df"
   ]
  },
  {
   "cell_type": "code",
   "execution_count": 3,
   "id": "5a495fc3",
   "metadata": {},
   "outputs": [
    {
     "name": "stdout",
     "output_type": "stream",
     "text": [
      "<class 'pandas.core.frame.DataFrame'>\n",
      "RangeIndex: 10000 entries, 0 to 9999\n",
      "Data columns (total 10 columns):\n",
      " #   Column                   Non-Null Count  Dtype  \n",
      "---  ------                   --------------  -----  \n",
      " 0   UDI                      10000 non-null  int64  \n",
      " 1   Product ID               10000 non-null  object \n",
      " 2   Type                     10000 non-null  object \n",
      " 3   Air temperature [K]      10000 non-null  float64\n",
      " 4   Process temperature [K]  10000 non-null  float64\n",
      " 5   Rotational speed [rpm]   10000 non-null  int64  \n",
      " 6   Torque [Nm]              10000 non-null  float64\n",
      " 7   Tool wear [min]          10000 non-null  int64  \n",
      " 8   Target                   10000 non-null  int64  \n",
      " 9   Failure Type             10000 non-null  object \n",
      "dtypes: float64(3), int64(4), object(3)\n",
      "memory usage: 781.4+ KB\n"
     ]
    }
   ],
   "source": [
    "df.info()"
   ]
  },
  {
   "cell_type": "code",
   "execution_count": 4,
   "id": "4fc87efe",
   "metadata": {},
   "outputs": [
    {
     "name": "stdout",
     "output_type": "stream",
     "text": [
      "les valeurs uniques de la première cible \"Target\" :\n",
      " [0 1]\n",
      "les valeurs uniques de la deuxième cible \"Failure Type \" : \n",
      "['No Failure' 'Power Failure' 'Tool Wear Failure' 'Overstrain Failure'\n",
      " 'Random Failures' 'Heat Dissipation Failure']\n"
     ]
    }
   ],
   "source": [
    "#le Dataset contient 2 targets => il faudrait utiliser une seule taget pour éviter toute fuite de données \"data lekeage\"\n",
    "print('les valeurs uniques de la première cible \"Target\" :\\n {}'.format( df.Target.unique()))\n",
    "print('les valeurs uniques de la deuxième cible \"Failure Type \" : \\n{}'.format( df['Failure Type'].unique()))"
   ]
  },
  {
   "cell_type": "code",
   "execution_count": 5,
   "id": "4fb3965d",
   "metadata": {},
   "outputs": [
    {
     "name": "stdout",
     "output_type": "stream",
     "text": [
      "<class 'pandas.core.frame.DataFrame'>\n",
      "RangeIndex: 10000 entries, 0 to 9999\n",
      "Data columns (total 8 columns):\n",
      " #   Column                   Non-Null Count  Dtype  \n",
      "---  ------                   --------------  -----  \n",
      " 0   Type                     10000 non-null  object \n",
      " 1   Air temperature [K]      10000 non-null  float64\n",
      " 2   Process temperature [K]  10000 non-null  float64\n",
      " 3   Rotational speed [rpm]   10000 non-null  int64  \n",
      " 4   Torque [Nm]              10000 non-null  float64\n",
      " 5   Tool wear [min]          10000 non-null  int64  \n",
      " 6   Target                   10000 non-null  int64  \n",
      " 7   Failure Type             10000 non-null  object \n",
      "dtypes: float64(3), int64(3), object(2)\n",
      "memory usage: 625.1+ KB\n"
     ]
    }
   ],
   "source": [
    "#suppression des variables d'identification \n",
    "df=df.drop([\"UDI\",\"Product ID\"],axis=1)\n",
    "df.info()"
   ]
  },
  {
   "cell_type": "markdown",
   "id": "ef7cc28c",
   "metadata": {},
   "source": [
    "# Classification binaire avec la cible \"Target\"\n",
    "la Target dans ce cas est une donnée binaire => Failure or Not Failure "
   ]
  },
  {
   "cell_type": "markdown",
   "id": "ab5d0953",
   "metadata": {},
   "source": [
    "## Analyse exploratoire des données"
   ]
  },
  {
   "cell_type": "code",
   "execution_count": 6,
   "id": "c11a5721",
   "metadata": {},
   "outputs": [
    {
     "name": "stdout",
     "output_type": "stream",
     "text": [
      "<class 'pandas.core.frame.DataFrame'>\n",
      "RangeIndex: 10000 entries, 0 to 9999\n",
      "Data columns (total 7 columns):\n",
      " #   Column                   Non-Null Count  Dtype  \n",
      "---  ------                   --------------  -----  \n",
      " 0   Type                     10000 non-null  object \n",
      " 1   Air temperature [K]      10000 non-null  float64\n",
      " 2   Process temperature [K]  10000 non-null  float64\n",
      " 3   Rotational speed [rpm]   10000 non-null  int64  \n",
      " 4   Torque [Nm]              10000 non-null  float64\n",
      " 5   Tool wear [min]          10000 non-null  int64  \n",
      " 6   Target                   10000 non-null  int64  \n",
      "dtypes: float64(3), int64(3), object(1)\n",
      "memory usage: 547.0+ KB\n"
     ]
    }
   ],
   "source": [
    "df1=df.drop(\"Failure Type\",axis=1)\n",
    "df1.info()"
   ]
  },
  {
   "cell_type": "markdown",
   "id": "75202d85",
   "metadata": {},
   "source": [
    "### Exploration des caractéristiques catégorielles"
   ]
  },
  {
   "cell_type": "code",
   "execution_count": 7,
   "id": "df89583b",
   "metadata": {},
   "outputs": [
    {
     "data": {
      "text/plain": [
       "0    9661\n",
       "1     339\n",
       "Name: Target, dtype: int64"
      ]
     },
     "execution_count": 7,
     "metadata": {},
     "output_type": "execute_result"
    },
    {
     "data": {
      "image/png": "[encoded data removed]",
      "text/plain": [
       "<Figure size 576x288 with 2 Axes>"
      ]
     },
     "metadata": {},
     "output_type": "display_data"
    }
   ],
   "source": [
    "# Target => la target est déséquilibrée => (échantillonage, )\n",
    "plt.figure(figsize=(8,4))\n",
    "plt.subplot(121)\n",
    "df1.Target.value_counts().plot.pie(title='Target',autopct='%1.f%%')\n",
    "plt.subplot(122)\n",
    "df1.Type.value_counts().plot.pie(title='Product type',autopct='%.f%%')\n",
    "df1.Target.value_counts()"
   ]
  },
  {
   "cell_type": "code",
   "execution_count": 8,
   "id": "14314f4e",
   "metadata": {},
   "outputs": [
    {
     "data": {
      "text/plain": [
       "<AxesSubplot:xlabel='Target', ylabel='Count'>"
      ]
     },
     "execution_count": 8,
     "metadata": {},
     "output_type": "execute_result"
    },
    {
     "data": {
      "image/png": "[encoded data removed]",
      "text/plain": [
       "<Figure size 1008x288 with 3 Axes>"
      ]
     },
     "metadata": {
      "needs_background": "light"
     },
     "output_type": "display_data"
    }
   ],
   "source": [
    "#relation Target Vs product Type\n",
    "plt.figure(figsize=(14,4))\n",
    "plt.subplot(121)\n",
    "sns.heatmap(pd.crosstab(df1.Target,df.Type),annot=True,fmt='d')\n",
    "plt.subplot(122)\n",
    "sns.histplot(df, x='Target',hue='Type', multiple=\"dodge\",shrink=5)\n"
   ]
  },
  {
   "cell_type": "markdown",
   "id": "64fe0652",
   "metadata": {},
   "source": [
    "### Exploration des caractéristiques numériques"
   ]
  },
  {
   "cell_type": "code",
   "execution_count": 9,
   "id": "c60b1d4b",
   "metadata": {},
   "outputs": [
    {
     "data": {
      "text/html": [
       "<div>\n",
       "<style scoped>\n",
       "    .dataframe tbody tr th:only-of-type {\n",
       "        vertical-align: middle;\n",
       "    }\n",
       "\n",
       "    .dataframe tbody tr th {\n",
       "        vertical-align: top;\n",
       "    }\n",
       "\n",
       "    .dataframe thead th {\n",
       "        text-align: right;\n",
       "    }\n",
       "</style>\n",
       "<table border=\"1\" class=\"dataframe\">\n",
       "  <thead>\n",
       "    <tr style=\"text-align: right;\">\n",
       "      <th></th>\n",
       "      <th>Air temperature [K]</th>\n",
       "      <th>Process temperature [K]</th>\n",
       "      <th>Rotational speed [rpm]</th>\n",
       "      <th>Torque [Nm]</th>\n",
       "      <th>Tool wear [min]</th>\n",
       "      <th>Target</th>\n",
       "    </tr>\n",
       "  </thead>\n",
       "  <tbody>\n",
       "    <tr>\n",
       "      <th>count</th>\n",
       "      <td>10000.000000</td>\n",
       "      <td>10000.000000</td>\n",
       "      <td>10000.000000</td>\n",
       "      <td>10000.000000</td>\n",
       "      <td>10000.000000</td>\n",
       "      <td>10000.000000</td>\n",
       "    </tr>\n",
       "    <tr>\n",
       "      <th>mean</th>\n",
       "      <td>300.004930</td>\n",
       "      <td>310.005560</td>\n",
       "      <td>1538.776100</td>\n",
       "      <td>39.986910</td>\n",
       "      <td>107.951000</td>\n",
       "      <td>0.033900</td>\n",
       "    </tr>\n",
       "    <tr>\n",
       "      <th>std</th>\n",
       "      <td>2.000259</td>\n",
       "      <td>1.483734</td>\n",
       "      <td>179.284096</td>\n",
       "      <td>9.968934</td>\n",
       "      <td>63.654147</td>\n",
       "      <td>0.180981</td>\n",
       "    </tr>\n",
       "    <tr>\n",
       "      <th>min</th>\n",
       "      <td>295.300000</td>\n",
       "      <td>305.700000</td>\n",
       "      <td>1168.000000</td>\n",
       "      <td>3.800000</td>\n",
       "      <td>0.000000</td>\n",
       "      <td>0.000000</td>\n",
       "    </tr>\n",
       "    <tr>\n",
       "      <th>25%</th>\n",
       "      <td>298.300000</td>\n",
       "      <td>308.800000</td>\n",
       "      <td>1423.000000</td>\n",
       "      <td>33.200000</td>\n",
       "      <td>53.000000</td>\n",
       "      <td>0.000000</td>\n",
       "    </tr>\n",
       "    <tr>\n",
       "      <th>50%</th>\n",
       "      <td>300.100000</td>\n",
       "      <td>310.100000</td>\n",
       "      <td>1503.000000</td>\n",
       "      <td>40.100000</td>\n",
       "      <td>108.000000</td>\n",
       "      <td>0.000000</td>\n",
       "    </tr>\n",
       "    <tr>\n",
       "      <th>75%</th>\n",
       "      <td>301.500000</td>\n",
       "      <td>311.100000</td>\n",
       "      <td>1612.000000</td>\n",
       "      <td>46.800000</td>\n",
       "      <td>162.000000</td>\n",
       "      <td>0.000000</td>\n",
       "    </tr>\n",
       "    <tr>\n",
       "      <th>max</th>\n",
       "      <td>304.500000</td>\n",
       "      <td>313.800000</td>\n",
       "      <td>2886.000000</td>\n",
       "      <td>76.600000</td>\n",
       "      <td>253.000000</td>\n",
       "      <td>1.000000</td>\n",
       "    </tr>\n",
       "  </tbody>\n",
       "</table>\n",
       "</div>"
      ],
      "text/plain": [
       "       Air temperature [K]  Process temperature [K]  Rotational speed [rpm]  \\\n",
       "count         10000.000000             10000.000000            10000.000000   \n",
       "mean            300.004930               310.005560             1538.776100   \n",
       "std               2.000259                 1.483734              179.284096   \n",
       "min             295.300000               305.700000             1168.000000   \n",
       "25%             298.300000               308.800000             1423.000000   \n",
       "50%             300.100000               310.100000             1503.000000   \n",
       "75%             301.500000               311.100000             1612.000000   \n",
       "max             304.500000               313.800000             2886.000000   \n",
       "\n",
       "        Torque [Nm]  Tool wear [min]        Target  \n",
       "count  10000.000000     10000.000000  10000.000000  \n",
       "mean      39.986910       107.951000      0.033900  \n",
       "std        9.968934        63.654147      0.180981  \n",
       "min        3.800000         0.000000      0.000000  \n",
       "25%       33.200000        53.000000      0.000000  \n",
       "50%       40.100000       108.000000      0.000000  \n",
       "75%       46.800000       162.000000      0.000000  \n",
       "max       76.600000       253.000000      1.000000  "
      ]
     },
     "execution_count": 9,
     "metadata": {},
     "output_type": "execute_result"
    }
   ],
   "source": [
    "df1.describe()"
   ]
  },
  {
   "cell_type": "code",
   "execution_count": 10,
   "id": "6c123aec",
   "metadata": {},
   "outputs": [
    {
     "data": {
      "image/png": "[encoded data removed]",
      "text/plain": [
       "<Figure size 1008x216 with 2 Axes>"
      ]
     },
     "metadata": {
      "needs_background": "light"
     },
     "output_type": "display_data"
    },
    {
     "data": {
      "image/png": "[encoded data removed]",
      "text/plain": [
       "<Figure size 1008x216 with 2 Axes>"
      ]
     },
     "metadata": {
      "needs_background": "light"
     },
     "output_type": "display_data"
    },
    {
     "data": {
      "image/png": "[encoded data removed]",
      "text/plain": [
       "<Figure size 1008x216 with 2 Axes>"
      ]
     },
     "metadata": {
      "needs_background": "light"
     },
     "output_type": "display_data"
    },
    {
     "data": {
      "image/png": "[encoded data removed]",
      "text/plain": [
       "<Figure size 1008x216 with 2 Axes>"
      ]
     },
     "metadata": {
      "needs_background": "light"
     },
     "output_type": "display_data"
    },
    {
     "data": {
      "image/png": "[encoded data removed]",
      "text/plain": [
       "<Figure size 1008x216 with 2 Axes>"
      ]
     },
     "metadata": {
      "needs_background": "light"
     },
     "output_type": "display_data"
    }
   ],
   "source": [
    "num_col=list(df1.select_dtypes(('float','int')).columns.values)\n",
    "num_col.remove('Target')\n",
    "for col in num_col:\n",
    "    plt.figure(figsize=(14,3))\n",
    "    plt.subplot(121)\n",
    "    sns.histplot(df1,x=col,hue='Target',kde=True)\n",
    "    plt.subplot(122)\n",
    "    sns.boxplot(x='Target',y=col,data=df1)"
   ]
  },
  {
   "cell_type": "code",
   "execution_count": 11,
   "id": "39e9bf8c",
   "metadata": {},
   "outputs": [
    {
     "data": {
      "text/plain": [
       "<AxesSubplot:>"
      ]
     },
     "execution_count": 11,
     "metadata": {},
     "output_type": "execute_result"
    },
    {
     "data": {
      "image/png": "[encoded data removed]",
      "text/plain": [
       "<Figure size 432x288 with 2 Axes>"
      ]
     },
     "metadata": {
      "needs_background": "light"
     },
     "output_type": "display_data"
    }
   ],
   "source": [
    "#Corrélation entre les variables\n",
    "sns.heatmap(df.corr(),annot=True,)"
   ]
  },
  {
   "cell_type": "markdown",
   "id": "19c06ae7",
   "metadata": {},
   "source": [
    "## Pré-traitement des données (imputation, encodage, scaling..)"
   ]
  },
  {
   "cell_type": "markdown",
   "id": "173288aa",
   "metadata": {},
   "source": [
    "#### Encodage descaractéristiques catégorielles\n"
   ]
  },
  {
   "cell_type": "code",
   "execution_count": 12,
   "id": "753443af",
   "metadata": {},
   "outputs": [
    {
     "data": {
      "text/plain": [
       "array(['M', 'L', 'H'], dtype=object)"
      ]
     },
     "execution_count": 12,
     "metadata": {},
     "output_type": "execute_result"
    }
   ],
   "source": [
    "df1.Type.unique()"
   ]
  },
  {
   "cell_type": "code",
   "execution_count": 13,
   "id": "22421f72",
   "metadata": {},
   "outputs": [],
   "source": [
    "#LE=LabelEncoder()\n",
    "#df1['Type']=LE.fit_transform(df1['Type'])\n",
    "type_dict={'L':0,'M':1, 'H':2}\n",
    "df1.Type.replace(type_dict,inplace=True)"
   ]
  },
  {
   "cell_type": "code",
   "execution_count": 14,
   "id": "57875117",
   "metadata": {},
   "outputs": [
    {
     "data": {
      "text/html": [
       "<div>\n",
       "<style scoped>\n",
       "    .dataframe tbody tr th:only-of-type {\n",
       "        vertical-align: middle;\n",
       "    }\n",
       "\n",
       "    .dataframe tbody tr th {\n",
       "        vertical-align: top;\n",
       "    }\n",
       "\n",
       "    .dataframe thead th {\n",
       "        text-align: right;\n",
       "    }\n",
       "</style>\n",
       "<table border=\"1\" class=\"dataframe\">\n",
       "  <thead>\n",
       "    <tr style=\"text-align: right;\">\n",
       "      <th></th>\n",
       "      <th>Type</th>\n",
       "      <th>Air_temperature_K</th>\n",
       "      <th>Process_temperature_k</th>\n",
       "      <th>Rotational_speed_rpm</th>\n",
       "      <th>Torque_Nm</th>\n",
       "      <th>Tool_wear_min</th>\n",
       "      <th>Target</th>\n",
       "    </tr>\n",
       "  </thead>\n",
       "  <tbody>\n",
       "    <tr>\n",
       "      <th>0</th>\n",
       "      <td>1</td>\n",
       "      <td>298.1</td>\n",
       "      <td>308.6</td>\n",
       "      <td>1551</td>\n",
       "      <td>42.8</td>\n",
       "      <td>0</td>\n",
       "      <td>0</td>\n",
       "    </tr>\n",
       "    <tr>\n",
       "      <th>1</th>\n",
       "      <td>0</td>\n",
       "      <td>298.2</td>\n",
       "      <td>308.7</td>\n",
       "      <td>1408</td>\n",
       "      <td>46.3</td>\n",
       "      <td>3</td>\n",
       "      <td>0</td>\n",
       "    </tr>\n",
       "    <tr>\n",
       "      <th>2</th>\n",
       "      <td>0</td>\n",
       "      <td>298.1</td>\n",
       "      <td>308.5</td>\n",
       "      <td>1498</td>\n",
       "      <td>49.4</td>\n",
       "      <td>5</td>\n",
       "      <td>0</td>\n",
       "    </tr>\n",
       "    <tr>\n",
       "      <th>3</th>\n",
       "      <td>0</td>\n",
       "      <td>298.2</td>\n",
       "      <td>308.6</td>\n",
       "      <td>1433</td>\n",
       "      <td>39.5</td>\n",
       "      <td>7</td>\n",
       "      <td>0</td>\n",
       "    </tr>\n",
       "    <tr>\n",
       "      <th>4</th>\n",
       "      <td>0</td>\n",
       "      <td>298.2</td>\n",
       "      <td>308.7</td>\n",
       "      <td>1408</td>\n",
       "      <td>40.0</td>\n",
       "      <td>9</td>\n",
       "      <td>0</td>\n",
       "    </tr>\n",
       "    <tr>\n",
       "      <th>...</th>\n",
       "      <td>...</td>\n",
       "      <td>...</td>\n",
       "      <td>...</td>\n",
       "      <td>...</td>\n",
       "      <td>...</td>\n",
       "      <td>...</td>\n",
       "      <td>...</td>\n",
       "    </tr>\n",
       "    <tr>\n",
       "      <th>9995</th>\n",
       "      <td>1</td>\n",
       "      <td>298.8</td>\n",
       "      <td>308.4</td>\n",
       "      <td>1604</td>\n",
       "      <td>29.5</td>\n",
       "      <td>14</td>\n",
       "      <td>0</td>\n",
       "    </tr>\n",
       "    <tr>\n",
       "      <th>9996</th>\n",
       "      <td>2</td>\n",
       "      <td>298.9</td>\n",
       "      <td>308.4</td>\n",
       "      <td>1632</td>\n",
       "      <td>31.8</td>\n",
       "      <td>17</td>\n",
       "      <td>0</td>\n",
       "    </tr>\n",
       "    <tr>\n",
       "      <th>9997</th>\n",
       "      <td>1</td>\n",
       "      <td>299.0</td>\n",
       "      <td>308.6</td>\n",
       "      <td>1645</td>\n",
       "      <td>33.4</td>\n",
       "      <td>22</td>\n",
       "      <td>0</td>\n",
       "    </tr>\n",
       "    <tr>\n",
       "      <th>9998</th>\n",
       "      <td>2</td>\n",
       "      <td>299.0</td>\n",
       "      <td>308.7</td>\n",
       "      <td>1408</td>\n",
       "      <td>48.5</td>\n",
       "      <td>25</td>\n",
       "      <td>0</td>\n",
       "    </tr>\n",
       "    <tr>\n",
       "      <th>9999</th>\n",
       "      <td>1</td>\n",
       "      <td>299.0</td>\n",
       "      <td>308.7</td>\n",
       "      <td>1500</td>\n",
       "      <td>40.2</td>\n",
       "      <td>30</td>\n",
       "      <td>0</td>\n",
       "    </tr>\n",
       "  </tbody>\n",
       "</table>\n",
       "<p>10000 rows × 7 columns</p>\n",
       "</div>"
      ],
      "text/plain": [
       "      Type  Air_temperature_K  Process_temperature_k  Rotational_speed_rpm  \\\n",
       "0        1              298.1                  308.6                  1551   \n",
       "1        0              298.2                  308.7                  1408   \n",
       "2        0              298.1                  308.5                  1498   \n",
       "3        0              298.2                  308.6                  1433   \n",
       "4        0              298.2                  308.7                  1408   \n",
       "...    ...                ...                    ...                   ...   \n",
       "9995     1              298.8                  308.4                  1604   \n",
       "9996     2              298.9                  308.4                  1632   \n",
       "9997     1              299.0                  308.6                  1645   \n",
       "9998     2              299.0                  308.7                  1408   \n",
       "9999     1              299.0                  308.7                  1500   \n",
       "\n",
       "      Torque_Nm  Tool_wear_min  Target  \n",
       "0          42.8              0       0  \n",
       "1          46.3              3       0  \n",
       "2          49.4              5       0  \n",
       "3          39.5              7       0  \n",
       "4          40.0              9       0  \n",
       "...         ...            ...     ...  \n",
       "9995       29.5             14       0  \n",
       "9996       31.8             17       0  \n",
       "9997       33.4             22       0  \n",
       "9998       48.5             25       0  \n",
       "9999       40.2             30       0  \n",
       "\n",
       "[10000 rows x 7 columns]"
      ]
     },
     "execution_count": 14,
     "metadata": {},
     "output_type": "execute_result"
    }
   ],
   "source": [
    "# Renomer les colonnes \n",
    "col_nam={'Air temperature [K]':'Air_temperature_K',\n",
    "'Torque [Nm]':'Torque_Nm',\n",
    "'Process temperature [K]':'Process_temperature_k',\n",
    "'Rotational speed [rpm]':'Rotational_speed_rpm', \n",
    "'Tool wear [min]':'Tool_wear_min'}\n",
    "df1.rename(columns=col_nam,inplace=True)\n",
    "df1"
   ]
  },
  {
   "cell_type": "markdown",
   "id": "060fb6de",
   "metadata": {},
   "source": [
    "#### Normalization\n",
    "Normalisation après le split des données pour éviter toute fuite de données et pour évaluer le modèle sur des données qui n'a jamais vu (unseen data) "
   ]
  },
  {
   "cell_type": "code",
   "execution_count": 19,
   "id": "ea9d2510",
   "metadata": {},
   "outputs": [],
   "source": [
    "def split_norm (X,y):\n",
    "    '''Cette Fonction permet de déviser le dataset en train et Test data et de normaliser le dataset'''\n",
    "    X_train, X_test, y_train, y_test= train_test_split(X,y,test_size=0.2, random_state=0)\n",
    "    print('Shape of X_train : ',X_train.shape)\n",
    "    print('Shape of y_train : ',y_train.shape)\n",
    "    print('Shape of X_test  : ',X_test.shape)\n",
    "    print('Shape of y_test  : ',y_test.shape)\n",
    "\n",
    "    col =X_train.columns\n",
    "    MMS=MinMaxScaler()\n",
    "    X_train=MMS.fit_transform(X_train)\n",
    "    X_test=MMS.transform(X_test)\n",
    "    X_train=pd.DataFrame(X_train,columns=col)\n",
    "    X_test=pd.DataFrame(X_test,columns=col)\n",
    "    return X_train,y_train, X_test,y_test"
   ]
  },
  {
   "cell_type": "markdown",
   "id": "8a8653c7",
   "metadata": {},
   "source": [
    "# Modeling"
   ]
  },
  {
   "cell_type": "code",
   "execution_count": 134,
   "id": "60b285a1",
   "metadata": {},
   "outputs": [],
   "source": [
    "random_state=0\n",
    "def training(X_train,y_train):\n",
    "    \n",
    "  \n",
    "    RFR=RandomForestClassifier(\n",
    "        n_jobs=1, random_state=0,\n",
    "        n_estimators=10, max_features=5, max_depth=7)\n",
    "    \n",
    "    GBR=GradientBoostingClassifier(\n",
    "        random_state=0, \n",
    "        n_estimators=10, max_features=5, max_depth=10,\n",
    "        learning_rate=0.05, subsample=0.5)\n",
    "    \n",
    "    XGBC=XGBClassifier(objective='reg:squarederror',random_state=random_state,\n",
    "        seed=0,\n",
    "        n_estimators=10, max_depth=7,\n",
    "        learning_rate=0.01, subsample=0.5 ,colsample_bytree= 0.8)\n",
    "    \n",
    "    from sklearn.ensemble import StackingClassifier\n",
    "    stkclf=StackingClassifier([('RFR',RFR),\n",
    "                           ('GBR',GBR),\n",
    "                           ('XGBC',XGBC)])\n",
    "    classifiers = [\n",
    "                  stkclf,\n",
    "                  LogisticRegression(random_state = random_state),\n",
    "                  LinearDiscriminantAnalysis(),\n",
    "                  KNeighborsClassifier(),\n",
    "                  SVC(random_state=random_state),\n",
    "                  DecisionTreeClassifier(random_state=random_state),\n",
    "                  RandomForestClassifier(random_state=random_state),\n",
    "                  AdaBoostClassifier(DecisionTreeClassifier(random_state=random_state),random_state=random_state,learning_rate=0.1),\n",
    "                  GradientBoostingClassifier(random_state=random_state),\n",
    "                  MLPClassifier(max_iter=10000,random_state=random_state),\n",
    "                  SGDClassifier(random_state = random_state),\n",
    "                  XGBClassifier(eval_metric='logloss',random_state = random_state),\n",
    "                  BalancedRandomForestClassifier(random_state = random_state)\n",
    "                  ]\n",
    "    \n",
    "    res_columns=['clf name', 'clf accuracy', 'clf recall','clf precision','clf f1_score']\n",
    "    df_result = pd.DataFrame(columns = res_columns)\n",
    "    idx_raws=0\n",
    "    for cl in tqdm(classifiers):\n",
    "        monclf=cl.fit(X_train,y_train)\n",
    "        ypred=monclf.predict(X_test)\n",
    "        df_result.loc[idx_raws, 'clf name']= cl.__class__.__name__\n",
    "        df_result.loc[idx_raws,'clf accuracy' ]=accuracy_score(y_test,ypred)\n",
    "        df_result.loc[idx_raws,'clf recall' ]=recall_score(y_test,ypred)\n",
    "        df_result.loc[idx_raws,'clf precision' ]=precision_score(y_test,ypred)\n",
    "        df_result.loc[idx_raws,'clf f1_score' ]=f1_score(y_test,ypred)\n",
    "        idx_raws=idx_raws+1\n",
    "    df_result.sort_values(by='clf f1_score',ascending=False,inplace=True)\n",
    "    return df_result\n",
    "\n",
    "\n",
    "import itertools\n",
    "def skplot_confusion_matrix(cm, classes,\n",
    "                          normalize=False,\n",
    "                          title='Confusion matrix',\n",
    "                          cmap=plt.cm.Blues):\n",
    "    \"\"\"\n",
    "    This function prints and plots the confusion matrix.\n",
    "    Normalization can be applied by setting `normalize=True`.\n",
    "    \"\"\"\n",
    "    plt.imshow(cm, interpolation='nearest', cmap=cmap)\n",
    "    plt.title(title)\n",
    "    plt.colorbar()\n",
    "    tick_marks = np.arange(len(classes))\n",
    "    plt.xticks(tick_marks, classes, rotation=45)\n",
    "    plt.yticks(tick_marks, classes)\n",
    "\n",
    "    if normalize:\n",
    "        cm = cm.astype('float') / cm.sum(axis=1)[:, np.newaxis]\n",
    "        print(\"Normalized confusion matrix\")\n",
    "    else:\n",
    "        print('Confusion matrix, without normalization')\n",
    "    print(cm)\n",
    "    thresh = cm.max() / 2.\n",
    "    for i, j in itertools.product(range(cm.shape[0]), range(cm.shape[1])):\n",
    "        plt.text(j, i, cm[i, j],\n",
    "            horizontalalignment=\"center\",\n",
    "            color=\"white\" if cm[i, j] > thresh else \"black\")\n",
    "\n",
    "    plt.tight_layout()\n",
    "    plt.ylabel('True label')\n",
    "    plt.xlabel('Predicted label')"
   ]
  },
  {
   "cell_type": "markdown",
   "id": "ab783de3",
   "metadata": {},
   "source": [
    "## Apprentissage des modèles sans traitement du désequilibre des classes"
   ]
  },
  {
   "cell_type": "code",
   "execution_count": 135,
   "id": "5d6de3dd",
   "metadata": {},
   "outputs": [
    {
     "name": "stdout",
     "output_type": "stream",
     "text": [
      "Shape of X_train :  (8000, 6)\n",
      "Shape of y_train :  (8000,)\n",
      "Shape of X_test  :  (2000, 6)\n",
      "Shape of y_test  :  (2000,)\n"
     ]
    }
   ],
   "source": [
    "y=df1['Target']\n",
    "X=df1.drop('Target',axis=1)\n",
    "X_train,y_train, X_test,y_test= split_norm(X,y)"
   ]
  },
  {
   "cell_type": "code",
   "execution_count": 136,
   "id": "1a3a0e88",
   "metadata": {},
   "outputs": [
    {
     "name": "stderr",
     "output_type": "stream",
     "text": [
      "100%|██████████████████████████████████████████████████████████████████████████████████| 13/13 [00:12<00:00,  1.05it/s]\n"
     ]
    },
    {
     "data": {
      "text/html": [
       "<div>\n",
       "<style scoped>\n",
       "    .dataframe tbody tr th:only-of-type {\n",
       "        vertical-align: middle;\n",
       "    }\n",
       "\n",
       "    .dataframe tbody tr th {\n",
       "        vertical-align: top;\n",
       "    }\n",
       "\n",
       "    .dataframe thead th {\n",
       "        text-align: right;\n",
       "    }\n",
       "</style>\n",
       "<table border=\"1\" class=\"dataframe\">\n",
       "  <thead>\n",
       "    <tr style=\"text-align: right;\">\n",
       "      <th></th>\n",
       "      <th>clf name</th>\n",
       "      <th>clf accuracy</th>\n",
       "      <th>clf recall</th>\n",
       "      <th>clf precision</th>\n",
       "      <th>clf f1_score</th>\n",
       "    </tr>\n",
       "  </thead>\n",
       "  <tbody>\n",
       "    <tr>\n",
       "      <th>11</th>\n",
       "      <td>XGBClassifier</td>\n",
       "      <td>0.985</td>\n",
       "      <td>0.653333</td>\n",
       "      <td>0.924528</td>\n",
       "      <td>0.765625</td>\n",
       "    </tr>\n",
       "    <tr>\n",
       "      <th>8</th>\n",
       "      <td>GradientBoostingClassifier</td>\n",
       "      <td>0.9825</td>\n",
       "      <td>0.613333</td>\n",
       "      <td>0.884615</td>\n",
       "      <td>0.724409</td>\n",
       "    </tr>\n",
       "    <tr>\n",
       "      <th>6</th>\n",
       "      <td>RandomForestClassifier</td>\n",
       "      <td>0.9815</td>\n",
       "      <td>0.626667</td>\n",
       "      <td>0.839286</td>\n",
       "      <td>0.717557</td>\n",
       "    </tr>\n",
       "    <tr>\n",
       "      <th>0</th>\n",
       "      <td>StackingClassifier</td>\n",
       "      <td>0.9795</td>\n",
       "      <td>0.56</td>\n",
       "      <td>0.84</td>\n",
       "      <td>0.672</td>\n",
       "    </tr>\n",
       "    <tr>\n",
       "      <th>5</th>\n",
       "      <td>DecisionTreeClassifier</td>\n",
       "      <td>0.9705</td>\n",
       "      <td>0.653333</td>\n",
       "      <td>0.597561</td>\n",
       "      <td>0.624204</td>\n",
       "    </tr>\n",
       "    <tr>\n",
       "      <th>7</th>\n",
       "      <td>AdaBoostClassifier</td>\n",
       "      <td>0.971</td>\n",
       "      <td>0.64</td>\n",
       "      <td>0.607595</td>\n",
       "      <td>0.623377</td>\n",
       "    </tr>\n",
       "    <tr>\n",
       "      <th>9</th>\n",
       "      <td>MLPClassifier</td>\n",
       "      <td>0.972</td>\n",
       "      <td>0.493333</td>\n",
       "      <td>0.672727</td>\n",
       "      <td>0.569231</td>\n",
       "    </tr>\n",
       "    <tr>\n",
       "      <th>12</th>\n",
       "      <td>BalancedRandomForestClassifier</td>\n",
       "      <td>0.889</td>\n",
       "      <td>0.933333</td>\n",
       "      <td>0.243902</td>\n",
       "      <td>0.38674</td>\n",
       "    </tr>\n",
       "    <tr>\n",
       "      <th>3</th>\n",
       "      <td>KNeighborsClassifier</td>\n",
       "      <td>0.968</td>\n",
       "      <td>0.253333</td>\n",
       "      <td>0.703704</td>\n",
       "      <td>0.372549</td>\n",
       "    </tr>\n",
       "    <tr>\n",
       "      <th>2</th>\n",
       "      <td>LinearDiscriminantAnalysis</td>\n",
       "      <td>0.964</td>\n",
       "      <td>0.28</td>\n",
       "      <td>0.538462</td>\n",
       "      <td>0.368421</td>\n",
       "    </tr>\n",
       "    <tr>\n",
       "      <th>4</th>\n",
       "      <td>SVC</td>\n",
       "      <td>0.9665</td>\n",
       "      <td>0.12</td>\n",
       "      <td>0.9</td>\n",
       "      <td>0.211765</td>\n",
       "    </tr>\n",
       "    <tr>\n",
       "      <th>1</th>\n",
       "      <td>LogisticRegression</td>\n",
       "      <td>0.9625</td>\n",
       "      <td>0.0</td>\n",
       "      <td>0.0</td>\n",
       "      <td>0.0</td>\n",
       "    </tr>\n",
       "    <tr>\n",
       "      <th>10</th>\n",
       "      <td>SGDClassifier</td>\n",
       "      <td>0.9625</td>\n",
       "      <td>0.0</td>\n",
       "      <td>0.0</td>\n",
       "      <td>0.0</td>\n",
       "    </tr>\n",
       "  </tbody>\n",
       "</table>\n",
       "</div>"
      ],
      "text/plain": [
       "                          clf name clf accuracy clf recall clf precision  \\\n",
       "11                   XGBClassifier        0.985   0.653333      0.924528   \n",
       "8       GradientBoostingClassifier       0.9825   0.613333      0.884615   \n",
       "6           RandomForestClassifier       0.9815   0.626667      0.839286   \n",
       "0               StackingClassifier       0.9795       0.56          0.84   \n",
       "5           DecisionTreeClassifier       0.9705   0.653333      0.597561   \n",
       "7               AdaBoostClassifier        0.971       0.64      0.607595   \n",
       "9                    MLPClassifier        0.972   0.493333      0.672727   \n",
       "12  BalancedRandomForestClassifier        0.889   0.933333      0.243902   \n",
       "3             KNeighborsClassifier        0.968   0.253333      0.703704   \n",
       "2       LinearDiscriminantAnalysis        0.964       0.28      0.538462   \n",
       "4                              SVC       0.9665       0.12           0.9   \n",
       "1               LogisticRegression       0.9625        0.0           0.0   \n",
       "10                   SGDClassifier       0.9625        0.0           0.0   \n",
       "\n",
       "   clf f1_score  \n",
       "11     0.765625  \n",
       "8      0.724409  \n",
       "6      0.717557  \n",
       "0         0.672  \n",
       "5      0.624204  \n",
       "7      0.623377  \n",
       "9      0.569231  \n",
       "12      0.38674  \n",
       "3      0.372549  \n",
       "2      0.368421  \n",
       "4      0.211765  \n",
       "1           0.0  \n",
       "10          0.0  "
      ]
     },
     "execution_count": 136,
     "metadata": {},
     "output_type": "execute_result"
    }
   ],
   "source": [
    "training(X_train,y_train)"
   ]
  },
  {
   "cell_type": "code",
   "execution_count": 69,
   "id": "6907d5d7",
   "metadata": {},
   "outputs": [
    {
     "name": "stdout",
     "output_type": "stream",
     "text": [
      "Confusion matrix, without normalization\n",
      "[[1921    4]\n",
      " [  26   49]]\n"
     ]
    },
    {
     "data": {
      "image/png": "[encoded data removed]",
      "text/plain": [
       "<Figure size 432x288 with 2 Axes>"
      ]
     },
     "metadata": {
      "needs_background": "light"
     },
     "output_type": "display_data"
    }
   ],
   "source": [
    "Model= XGBClassifier(eval_metric='logloss',random_state = random_state).fit(X_train,y_train)\n",
    "ypred=Model.predict(X_test)\n",
    "cm=confusion_matrix(y_test,ypred)\n",
    "skplot_confusion_matrix(cm,[0,1])"
   ]
  },
  {
   "cell_type": "markdown",
   "id": "e8e40941",
   "metadata": {},
   "source": [
    "## Apprentissage des modèles avec traitement du désequilibre des classes"
   ]
  },
  {
   "cell_type": "markdown",
   "id": "ac2d452b",
   "metadata": {},
   "source": [
    "### 1. Cost-Sensitive Learning (scale_pos_weight / class_weight) :\n",
    "\n",
    "Au cour de l’apprentissage, on peut attribuer des poids aux observations. le poids de chaque observation sera d’autant plus important que la classe de celle-ci est minoritaire. Le principe est de redéfinir la fonction de coût du modèle en tenant compte de ces poids. \n",
    "    - scale_pos_weight  => pour les modèle de boosting  XGBClassifier, Light GBM, Catboost ..\n",
    "        => recommandation pour le scale_pos_weight = le ratio des observations négatives par rapport aux  positives.\n",
    "    - class_weight => pour les autres modèles "
   ]
  },
  {
   "cell_type": "code",
   "execution_count": 20,
   "id": "99a85879",
   "metadata": {},
   "outputs": [
    {
     "name": "stdout",
     "output_type": "stream",
     "text": [
      "Shape of X_train :  (8000, 6)\n",
      "Shape of y_train :  (8000,)\n",
      "Shape of X_test  :  (2000, 6)\n",
      "Shape of y_test  :  (2000,)\n"
     ]
    }
   ],
   "source": [
    "y=df1['Target']\n",
    "X=df1.drop('Target',axis=1)\n",
    "X_train,y_train, X_test,y_test= split_norm(X,y)"
   ]
  },
  {
   "cell_type": "code",
   "execution_count": 21,
   "id": "3a82bb9c",
   "metadata": {},
   "outputs": [
    {
     "name": "stderr",
     "output_type": "stream",
     "text": [
      "100%|████████████████████████████████████████████████████████████████████████████████████| 8/8 [00:10<00:00,  1.30s/it]\n"
     ]
    },
    {
     "data": {
      "text/html": [
       "<div>\n",
       "<style scoped>\n",
       "    .dataframe tbody tr th:only-of-type {\n",
       "        vertical-align: middle;\n",
       "    }\n",
       "\n",
       "    .dataframe tbody tr th {\n",
       "        vertical-align: top;\n",
       "    }\n",
       "\n",
       "    .dataframe thead th {\n",
       "        text-align: right;\n",
       "    }\n",
       "</style>\n",
       "<table border=\"1\" class=\"dataframe\">\n",
       "  <thead>\n",
       "    <tr style=\"text-align: right;\">\n",
       "      <th></th>\n",
       "      <th>clf name</th>\n",
       "      <th>clf accuracy</th>\n",
       "      <th>clf recall</th>\n",
       "      <th>clf precision</th>\n",
       "      <th>clf f1_score</th>\n",
       "    </tr>\n",
       "  </thead>\n",
       "  <tbody>\n",
       "    <tr>\n",
       "      <th>7</th>\n",
       "      <td>XGBClassifier</td>\n",
       "      <td>0.9775</td>\n",
       "      <td>0.733333</td>\n",
       "      <td>0.6875</td>\n",
       "      <td>0.709677</td>\n",
       "    </tr>\n",
       "    <tr>\n",
       "      <th>3</th>\n",
       "      <td>DecisionTreeClassifier</td>\n",
       "      <td>0.975</td>\n",
       "      <td>0.626667</td>\n",
       "      <td>0.681159</td>\n",
       "      <td>0.652778</td>\n",
       "    </tr>\n",
       "    <tr>\n",
       "      <th>4</th>\n",
       "      <td>RandomForestClassifier</td>\n",
       "      <td>0.9785</td>\n",
       "      <td>0.493333</td>\n",
       "      <td>0.880952</td>\n",
       "      <td>0.632479</td>\n",
       "    </tr>\n",
       "    <tr>\n",
       "      <th>5</th>\n",
       "      <td>MLPClassifier</td>\n",
       "      <td>0.972</td>\n",
       "      <td>0.493333</td>\n",
       "      <td>0.672727</td>\n",
       "      <td>0.569231</td>\n",
       "    </tr>\n",
       "    <tr>\n",
       "      <th>2</th>\n",
       "      <td>SVC</td>\n",
       "      <td>0.902</td>\n",
       "      <td>0.866667</td>\n",
       "      <td>0.258964</td>\n",
       "      <td>0.398773</td>\n",
       "    </tr>\n",
       "    <tr>\n",
       "      <th>1</th>\n",
       "      <td>KNeighborsClassifier</td>\n",
       "      <td>0.968</td>\n",
       "      <td>0.253333</td>\n",
       "      <td>0.703704</td>\n",
       "      <td>0.372549</td>\n",
       "    </tr>\n",
       "    <tr>\n",
       "      <th>0</th>\n",
       "      <td>LogisticRegression</td>\n",
       "      <td>0.81</td>\n",
       "      <td>0.826667</td>\n",
       "      <td>0.144522</td>\n",
       "      <td>0.246032</td>\n",
       "    </tr>\n",
       "    <tr>\n",
       "      <th>6</th>\n",
       "      <td>SGDClassifier</td>\n",
       "      <td>0.685</td>\n",
       "      <td>0.933333</td>\n",
       "      <td>0.100719</td>\n",
       "      <td>0.181818</td>\n",
       "    </tr>\n",
       "  </tbody>\n",
       "</table>\n",
       "</div>"
      ],
      "text/plain": [
       "                 clf name clf accuracy clf recall clf precision clf f1_score\n",
       "7           XGBClassifier       0.9775   0.733333        0.6875     0.709677\n",
       "3  DecisionTreeClassifier        0.975   0.626667      0.681159     0.652778\n",
       "4  RandomForestClassifier       0.9785   0.493333      0.880952     0.632479\n",
       "5           MLPClassifier        0.972   0.493333      0.672727     0.569231\n",
       "2                     SVC        0.902   0.866667      0.258964     0.398773\n",
       "1    KNeighborsClassifier        0.968   0.253333      0.703704     0.372549\n",
       "0      LogisticRegression         0.81   0.826667      0.144522     0.246032\n",
       "6           SGDClassifier        0.685   0.933333      0.100719     0.181818"
      ]
     },
     "execution_count": 21,
     "metadata": {},
     "output_type": "execute_result"
    }
   ],
   "source": [
    "random_state=0\n",
    "classifiers = [\n",
    "              LogisticRegression(class_weight='balanced',random_state = random_state),\n",
    "              KNeighborsClassifier(),\n",
    "              SVC(class_weight='balanced',random_state=random_state),\n",
    "              DecisionTreeClassifier(class_weight='balanced',random_state=random_state),\n",
    "              RandomForestClassifier(class_weight='balanced',random_state=random_state),\n",
    "              MLPClassifier(max_iter=10000,random_state=random_state),\n",
    "              SGDClassifier(class_weight='balanced',random_state = random_state),\n",
    "              XGBClassifier(scale_pos_weight =30,random_state = random_state,eval_metric='logloss')\n",
    "              ]\n",
    "\n",
    "res_columns=['clf name', 'clf accuracy', 'clf recall','clf precision','clf f1_score']\n",
    "df_result = pd.DataFrame(columns = res_columns)\n",
    "idx_raws=0\n",
    "for cl in tqdm(classifiers):\n",
    "    monclf=cl.fit(X_train,y_train)\n",
    "    ypred=monclf.predict(X_test)\n",
    "    df_result.loc[idx_raws, 'clf name']= cl.__class__.__name__\n",
    "    df_result.loc[idx_raws,'clf accuracy' ]=accuracy_score(y_test,ypred)\n",
    "    df_result.loc[idx_raws,'clf recall' ]=recall_score(y_test,ypred)\n",
    "    df_result.loc[idx_raws,'clf precision' ]=precision_score(y_test,ypred)\n",
    "    df_result.loc[idx_raws,'clf f1_score' ]=f1_score(y_test,ypred)\n",
    "    idx_raws=idx_raws+1\n",
    "\n",
    "df_result.sort_values(by='clf f1_score',ascending=False,inplace=True)\n",
    "df_result"
   ]
  },
  {
   "cell_type": "code",
   "execution_count": 22,
   "id": "931662ab",
   "metadata": {},
   "outputs": [
    {
     "name": "stdout",
     "output_type": "stream",
     "text": [
      "Confusion matrix, without normalization\n",
      "[[1900   25]\n",
      " [  20   55]]\n"
     ]
    },
    {
     "data": {
      "image/png": "[encoded data removed]",
      "text/plain": [
       "<Figure size 432x288 with 2 Axes>"
      ]
     },
     "metadata": {
      "needs_background": "light"
     },
     "output_type": "display_data"
    }
   ],
   "source": [
    "Model=XGBClassifier(scale_pos_weight =30,random_state = random_state,eval_metric='logloss').fit(X_train,y_train)\n",
    "Model\n",
    "ypred=Model.predict(X_test)\n",
    "cm=confusion_matrix(y_test,ypred)\n",
    "skplot_confusion_matrix(cm,[0,1])"
   ]
  },
  {
   "cell_type": "markdown",
   "id": "9de6cdc6",
   "metadata": {},
   "source": [
    "## Ré-échantillonnage  du jeu de données"
   ]
  },
  {
   "cell_type": "markdown",
   "id": "11844120",
   "metadata": {},
   "source": [
    "### Sous-Échantillonnage :\n",
    "\n",
    "Lorsque le nombre d’observations dans le dataset est assez important, on a la possibilité de sous-échantillonner les observations associées à la classe la plus prépondérante. On peut réaliser un sous-échantillonnage de façon aléatoire mais on peut également utiliser d’autres techniques telles que NearMiss. "
   ]
  },
  {
   "cell_type": "markdown",
   "id": "c5fd9ae3",
   "metadata": {},
   "source": [
    "#### Sous_échantillonnage aléatoire"
   ]
  },
  {
   "cell_type": "code",
   "execution_count": 64,
   "id": "782f53bd",
   "metadata": {},
   "outputs": [
    {
     "name": "stdout",
     "output_type": "stream",
     "text": [
      "Shape of X_train :  (542, 6)\n",
      "Shape of y_train :  (542,)\n",
      "Shape of X_test  :  (136, 6)\n",
      "Shape of y_test  :  (136,)\n"
     ]
    }
   ],
   "source": [
    "Pos=df1[df1.Target==1]\n",
    "Neg=df1[df1.Target==0]\n",
    "Neg=Neg.sample(n=Pos.shape[0],random_state=0)\n",
    "df_sampled=pd.concat([Pos,Neg])\n",
    "y=df_sampled['Target']\n",
    "X=df_sampled.drop('Target',axis=1)\n",
    "X_train,y_train, X_test,y_test= split_norm(X,y)"
   ]
  },
  {
   "cell_type": "code",
   "execution_count": 65,
   "id": "633d3310",
   "metadata": {},
   "outputs": [],
   "source": [
    "#On peut aussi utiliser la methode RandomUnderSampler pour le sous-échantillonnage aléatoire\n",
    "#y=df1['Target']\n",
    "#X=df1.drop('Target',axis=1)\n",
    "#X_under_sample, y_under_sample = RandomUnderSampler(random_state=0).fit_resample(X,y)\n",
    "#X_train,y_train, X_test,y_test= split_norm(X_under_sample, y_under_sample)"
   ]
  },
  {
   "cell_type": "code",
   "execution_count": 66,
   "id": "692f0482",
   "metadata": {},
   "outputs": [
    {
     "name": "stderr",
     "output_type": "stream",
     "text": [
      "100%|██████████████████████████████████████████████████████████████████████████████████| 12/12 [00:02<00:00,  4.83it/s]\n"
     ]
    },
    {
     "data": {
      "text/html": [
       "<div>\n",
       "<style scoped>\n",
       "    .dataframe tbody tr th:only-of-type {\n",
       "        vertical-align: middle;\n",
       "    }\n",
       "\n",
       "    .dataframe tbody tr th {\n",
       "        vertical-align: top;\n",
       "    }\n",
       "\n",
       "    .dataframe thead th {\n",
       "        text-align: right;\n",
       "    }\n",
       "</style>\n",
       "<table border=\"1\" class=\"dataframe\">\n",
       "  <thead>\n",
       "    <tr style=\"text-align: right;\">\n",
       "      <th></th>\n",
       "      <th>clf name</th>\n",
       "      <th>clf accuracy</th>\n",
       "      <th>clf recall</th>\n",
       "      <th>clf precision</th>\n",
       "      <th>clf f1_score</th>\n",
       "    </tr>\n",
       "  </thead>\n",
       "  <tbody>\n",
       "    <tr>\n",
       "      <th>0</th>\n",
       "      <td>StackingClassifier</td>\n",
       "      <td>0.919118</td>\n",
       "      <td>0.968254</td>\n",
       "      <td>0.871429</td>\n",
       "      <td>0.917293</td>\n",
       "    </tr>\n",
       "    <tr>\n",
       "      <th>8</th>\n",
       "      <td>GradientBoostingClassifier</td>\n",
       "      <td>0.904412</td>\n",
       "      <td>0.936508</td>\n",
       "      <td>0.867647</td>\n",
       "      <td>0.900763</td>\n",
       "    </tr>\n",
       "    <tr>\n",
       "      <th>7</th>\n",
       "      <td>AdaBoostClassifier</td>\n",
       "      <td>0.897059</td>\n",
       "      <td>0.904762</td>\n",
       "      <td>0.876923</td>\n",
       "      <td>0.890625</td>\n",
       "    </tr>\n",
       "    <tr>\n",
       "      <th>6</th>\n",
       "      <td>RandomForestClassifier</td>\n",
       "      <td>0.889706</td>\n",
       "      <td>0.952381</td>\n",
       "      <td>0.833333</td>\n",
       "      <td>0.888889</td>\n",
       "    </tr>\n",
       "    <tr>\n",
       "      <th>11</th>\n",
       "      <td>XGBClassifier</td>\n",
       "      <td>0.889706</td>\n",
       "      <td>0.952381</td>\n",
       "      <td>0.833333</td>\n",
       "      <td>0.888889</td>\n",
       "    </tr>\n",
       "    <tr>\n",
       "      <th>4</th>\n",
       "      <td>SVC</td>\n",
       "      <td>0.882353</td>\n",
       "      <td>0.873016</td>\n",
       "      <td>0.873016</td>\n",
       "      <td>0.873016</td>\n",
       "    </tr>\n",
       "    <tr>\n",
       "      <th>5</th>\n",
       "      <td>DecisionTreeClassifier</td>\n",
       "      <td>0.875</td>\n",
       "      <td>0.873016</td>\n",
       "      <td>0.859375</td>\n",
       "      <td>0.866142</td>\n",
       "    </tr>\n",
       "    <tr>\n",
       "      <th>3</th>\n",
       "      <td>KNeighborsClassifier</td>\n",
       "      <td>0.852941</td>\n",
       "      <td>0.888889</td>\n",
       "      <td>0.811594</td>\n",
       "      <td>0.848485</td>\n",
       "    </tr>\n",
       "    <tr>\n",
       "      <th>9</th>\n",
       "      <td>MLPClassifier</td>\n",
       "      <td>0.852941</td>\n",
       "      <td>0.857143</td>\n",
       "      <td>0.830769</td>\n",
       "      <td>0.84375</td>\n",
       "    </tr>\n",
       "    <tr>\n",
       "      <th>2</th>\n",
       "      <td>LinearDiscriminantAnalysis</td>\n",
       "      <td>0.801471</td>\n",
       "      <td>0.793651</td>\n",
       "      <td>0.78125</td>\n",
       "      <td>0.787402</td>\n",
       "    </tr>\n",
       "    <tr>\n",
       "      <th>10</th>\n",
       "      <td>SGDClassifier</td>\n",
       "      <td>0.772059</td>\n",
       "      <td>0.84127</td>\n",
       "      <td>0.716216</td>\n",
       "      <td>0.773723</td>\n",
       "    </tr>\n",
       "    <tr>\n",
       "      <th>1</th>\n",
       "      <td>LogisticRegression</td>\n",
       "      <td>0.720588</td>\n",
       "      <td>0.730159</td>\n",
       "      <td>0.686567</td>\n",
       "      <td>0.707692</td>\n",
       "    </tr>\n",
       "  </tbody>\n",
       "</table>\n",
       "</div>"
      ],
      "text/plain": [
       "                      clf name clf accuracy clf recall clf precision  \\\n",
       "0           StackingClassifier     0.919118   0.968254      0.871429   \n",
       "8   GradientBoostingClassifier     0.904412   0.936508      0.867647   \n",
       "7           AdaBoostClassifier     0.897059   0.904762      0.876923   \n",
       "6       RandomForestClassifier     0.889706   0.952381      0.833333   \n",
       "11               XGBClassifier     0.889706   0.952381      0.833333   \n",
       "4                          SVC     0.882353   0.873016      0.873016   \n",
       "5       DecisionTreeClassifier        0.875   0.873016      0.859375   \n",
       "3         KNeighborsClassifier     0.852941   0.888889      0.811594   \n",
       "9                MLPClassifier     0.852941   0.857143      0.830769   \n",
       "2   LinearDiscriminantAnalysis     0.801471   0.793651       0.78125   \n",
       "10               SGDClassifier     0.772059    0.84127      0.716216   \n",
       "1           LogisticRegression     0.720588   0.730159      0.686567   \n",
       "\n",
       "   clf f1_score  \n",
       "0      0.917293  \n",
       "8      0.900763  \n",
       "7      0.890625  \n",
       "6      0.888889  \n",
       "11     0.888889  \n",
       "4      0.873016  \n",
       "5      0.866142  \n",
       "3      0.848485  \n",
       "9       0.84375  \n",
       "2      0.787402  \n",
       "10     0.773723  \n",
       "1      0.707692  "
      ]
     },
     "execution_count": 66,
     "metadata": {},
     "output_type": "execute_result"
    }
   ],
   "source": [
    "training(X_train,y_train)"
   ]
  },
  {
   "cell_type": "code",
   "execution_count": 67,
   "id": "15a9919f",
   "metadata": {},
   "outputs": [
    {
     "name": "stdout",
     "output_type": "stream",
     "text": [
      "Confusion matrix, without normalization\n",
      "[[61 12]\n",
      " [ 4 59]]\n"
     ]
    },
    {
     "data": {
      "image/png": "[encoded data removed]",
      "text/plain": [
       "<Figure size 432x288 with 2 Axes>"
      ]
     },
     "metadata": {
      "needs_background": "light"
     },
     "output_type": "display_data"
    }
   ],
   "source": [
    "Model=RandomForestClassifier().fit(X_train,y_train)\n",
    "ypred=Model.predict(X_test)\n",
    "cm=confusion_matrix(y_test,ypred)\n",
    "skplot_confusion_matrix(cm,[0,1])"
   ]
  },
  {
   "cell_type": "markdown",
   "id": "278559a8",
   "metadata": {},
   "source": [
    "#### Sous_échantillonnage avec NearMiss\n",
    "NearMiss vise à séparer les observations correspondantes à des classes différentes. Son principe est de supprimer les observations de la classe majoritaire lorsque des observations associées à des classes différentes sont proches l’une de l’autre."
   ]
  },
  {
   "cell_type": "code",
   "execution_count": 29,
   "id": "4ced2203",
   "metadata": {},
   "outputs": [],
   "source": [
    "y=df1['Target']\n",
    "X=df1.drop('Target',axis=1)"
   ]
  },
  {
   "cell_type": "code",
   "execution_count": 30,
   "id": "a8a585ec",
   "metadata": {},
   "outputs": [],
   "source": [
    "# Choix de la taille du nouveau dataset \n",
    "#distribution_of_samples = {0:400, 1:339}\n",
    "# Sous-Echantillonnage en utilisant la méthode NearMiss \n",
    "nearmiss = NearMiss()#sampling_strategy = distribution_of_samples)\n",
    "X_under_sample, y_under_sample = nearmiss.fit_resample(X,y)"
   ]
  },
  {
   "cell_type": "code",
   "execution_count": 31,
   "id": "14787ea3",
   "metadata": {},
   "outputs": [
    {
     "name": "stdout",
     "output_type": "stream",
     "text": [
      "Shape of X_train :  (542, 6)\n",
      "Shape of y_train :  (542,)\n",
      "Shape of X_test  :  (136, 6)\n",
      "Shape of y_test  :  (136,)\n"
     ]
    }
   ],
   "source": [
    "X_train,y_train, X_test,y_test= split_norm(X_under_sample,y_under_sample)"
   ]
  },
  {
   "cell_type": "code",
   "execution_count": 32,
   "id": "c8bd449d",
   "metadata": {},
   "outputs": [
    {
     "name": "stderr",
     "output_type": "stream",
     "text": [
      "100%|██████████████████████████████████████████████████████████████████████████████████| 12/12 [00:04<00:00,  2.53it/s]\n"
     ]
    },
    {
     "data": {
      "text/html": [
       "<div>\n",
       "<style scoped>\n",
       "    .dataframe tbody tr th:only-of-type {\n",
       "        vertical-align: middle;\n",
       "    }\n",
       "\n",
       "    .dataframe tbody tr th {\n",
       "        vertical-align: top;\n",
       "    }\n",
       "\n",
       "    .dataframe thead th {\n",
       "        text-align: right;\n",
       "    }\n",
       "</style>\n",
       "<table border=\"1\" class=\"dataframe\">\n",
       "  <thead>\n",
       "    <tr style=\"text-align: right;\">\n",
       "      <th></th>\n",
       "      <th>clf name</th>\n",
       "      <th>clf accuracy</th>\n",
       "      <th>clf recall</th>\n",
       "      <th>clf precision</th>\n",
       "      <th>clf f1_score</th>\n",
       "    </tr>\n",
       "  </thead>\n",
       "  <tbody>\n",
       "    <tr>\n",
       "      <th>0</th>\n",
       "      <td>StackingClassifier</td>\n",
       "      <td>0.897059</td>\n",
       "      <td>0.876712</td>\n",
       "      <td>0.927536</td>\n",
       "      <td>0.901408</td>\n",
       "    </tr>\n",
       "    <tr>\n",
       "      <th>11</th>\n",
       "      <td>XGBClassifier</td>\n",
       "      <td>0.875</td>\n",
       "      <td>0.863014</td>\n",
       "      <td>0.9</td>\n",
       "      <td>0.881119</td>\n",
       "    </tr>\n",
       "    <tr>\n",
       "      <th>6</th>\n",
       "      <td>RandomForestClassifier</td>\n",
       "      <td>0.852941</td>\n",
       "      <td>0.90411</td>\n",
       "      <td>0.835443</td>\n",
       "      <td>0.868421</td>\n",
       "    </tr>\n",
       "    <tr>\n",
       "      <th>5</th>\n",
       "      <td>DecisionTreeClassifier</td>\n",
       "      <td>0.845588</td>\n",
       "      <td>0.849315</td>\n",
       "      <td>0.861111</td>\n",
       "      <td>0.855172</td>\n",
       "    </tr>\n",
       "    <tr>\n",
       "      <th>8</th>\n",
       "      <td>GradientBoostingClassifier</td>\n",
       "      <td>0.852941</td>\n",
       "      <td>0.808219</td>\n",
       "      <td>0.907692</td>\n",
       "      <td>0.855072</td>\n",
       "    </tr>\n",
       "    <tr>\n",
       "      <th>9</th>\n",
       "      <td>MLPClassifier</td>\n",
       "      <td>0.838235</td>\n",
       "      <td>0.808219</td>\n",
       "      <td>0.880597</td>\n",
       "      <td>0.842857</td>\n",
       "    </tr>\n",
       "    <tr>\n",
       "      <th>7</th>\n",
       "      <td>AdaBoostClassifier</td>\n",
       "      <td>0.830882</td>\n",
       "      <td>0.808219</td>\n",
       "      <td>0.867647</td>\n",
       "      <td>0.836879</td>\n",
       "    </tr>\n",
       "    <tr>\n",
       "      <th>4</th>\n",
       "      <td>SVC</td>\n",
       "      <td>0.75</td>\n",
       "      <td>0.739726</td>\n",
       "      <td>0.782609</td>\n",
       "      <td>0.760563</td>\n",
       "    </tr>\n",
       "    <tr>\n",
       "      <th>3</th>\n",
       "      <td>KNeighborsClassifier</td>\n",
       "      <td>0.75</td>\n",
       "      <td>0.69863</td>\n",
       "      <td>0.809524</td>\n",
       "      <td>0.75</td>\n",
       "    </tr>\n",
       "    <tr>\n",
       "      <th>2</th>\n",
       "      <td>LinearDiscriminantAnalysis</td>\n",
       "      <td>0.713235</td>\n",
       "      <td>0.671233</td>\n",
       "      <td>0.765625</td>\n",
       "      <td>0.715328</td>\n",
       "    </tr>\n",
       "    <tr>\n",
       "      <th>1</th>\n",
       "      <td>LogisticRegression</td>\n",
       "      <td>0.698529</td>\n",
       "      <td>0.630137</td>\n",
       "      <td>0.766667</td>\n",
       "      <td>0.691729</td>\n",
       "    </tr>\n",
       "    <tr>\n",
       "      <th>10</th>\n",
       "      <td>SGDClassifier</td>\n",
       "      <td>0.683824</td>\n",
       "      <td>0.479452</td>\n",
       "      <td>0.875</td>\n",
       "      <td>0.619469</td>\n",
       "    </tr>\n",
       "  </tbody>\n",
       "</table>\n",
       "</div>"
      ],
      "text/plain": [
       "                      clf name clf accuracy clf recall clf precision  \\\n",
       "0           StackingClassifier     0.897059   0.876712      0.927536   \n",
       "11               XGBClassifier        0.875   0.863014           0.9   \n",
       "6       RandomForestClassifier     0.852941    0.90411      0.835443   \n",
       "5       DecisionTreeClassifier     0.845588   0.849315      0.861111   \n",
       "8   GradientBoostingClassifier     0.852941   0.808219      0.907692   \n",
       "9                MLPClassifier     0.838235   0.808219      0.880597   \n",
       "7           AdaBoostClassifier     0.830882   0.808219      0.867647   \n",
       "4                          SVC         0.75   0.739726      0.782609   \n",
       "3         KNeighborsClassifier         0.75    0.69863      0.809524   \n",
       "2   LinearDiscriminantAnalysis     0.713235   0.671233      0.765625   \n",
       "1           LogisticRegression     0.698529   0.630137      0.766667   \n",
       "10               SGDClassifier     0.683824   0.479452         0.875   \n",
       "\n",
       "   clf f1_score  \n",
       "0      0.901408  \n",
       "11     0.881119  \n",
       "6      0.868421  \n",
       "5      0.855172  \n",
       "8      0.855072  \n",
       "9      0.842857  \n",
       "7      0.836879  \n",
       "4      0.760563  \n",
       "3          0.75  \n",
       "2      0.715328  \n",
       "1      0.691729  \n",
       "10     0.619469  "
      ]
     },
     "execution_count": 32,
     "metadata": {},
     "output_type": "execute_result"
    }
   ],
   "source": [
    "training(X_train,y_train)"
   ]
  },
  {
   "cell_type": "code",
   "execution_count": 33,
   "id": "6d750f11",
   "metadata": {},
   "outputs": [
    {
     "name": "stdout",
     "output_type": "stream",
     "text": [
      "Confusion matrix, without normalization\n",
      "[[56  7]\n",
      " [10 63]]\n"
     ]
    },
    {
     "data": {
      "image/png": "[encoded data removed]",
      "text/plain": [
       "<Figure size 432x288 with 2 Axes>"
      ]
     },
     "metadata": {
      "needs_background": "light"
     },
     "output_type": "display_data"
    }
   ],
   "source": [
    "Model=XGBClassifier(eval_metric='logloss').fit(X_train,y_train)\n",
    "Model\n",
    "ypred=Model.predict(X_test)\n",
    "cm=confusion_matrix(y_test,ypred)\n",
    "skplot_confusion_matrix(cm,[0,1])"
   ]
  },
  {
   "cell_type": "markdown",
   "id": "3d4e31bc",
   "metadata": {},
   "source": [
    "### Sur-Échantillonnage  avec SMOTE"
   ]
  },
  {
   "cell_type": "code",
   "execution_count": 34,
   "id": "774f2800",
   "metadata": {},
   "outputs": [],
   "source": [
    "y=df1['Target']\n",
    "X=df1.drop('Target',axis=1)"
   ]
  },
  {
   "cell_type": "code",
   "execution_count": 35,
   "id": "668eb0db",
   "metadata": {},
   "outputs": [],
   "source": [
    "# Choix de la taille du nouveau dataset \n",
    "#distribution_of_samples = {0:10000, 1:10000}\n",
    "# Sur-Echantillonnage en utilisant la méthode SMOTE\n",
    "smote = SMOTE(random_state=0)# sampling_strategy = distribution_of_samples)\n",
    "X_over_sample, y_over_sample = smote.fit_resample(X,y)"
   ]
  },
  {
   "cell_type": "code",
   "execution_count": 36,
   "id": "9332a551",
   "metadata": {},
   "outputs": [
    {
     "name": "stdout",
     "output_type": "stream",
     "text": [
      "Shape of X_train :  (15457, 6)\n",
      "Shape of y_train :  (15457,)\n",
      "Shape of X_test  :  (3865, 6)\n",
      "Shape of y_test  :  (3865,)\n"
     ]
    },
    {
     "name": "stderr",
     "output_type": "stream",
     "text": [
      "100%|██████████████████████████████████████████████████████████████████████████████████| 12/12 [00:50<00:00,  4.23s/it]\n"
     ]
    },
    {
     "data": {
      "text/html": [
       "<div>\n",
       "<style scoped>\n",
       "    .dataframe tbody tr th:only-of-type {\n",
       "        vertical-align: middle;\n",
       "    }\n",
       "\n",
       "    .dataframe tbody tr th {\n",
       "        vertical-align: top;\n",
       "    }\n",
       "\n",
       "    .dataframe thead th {\n",
       "        text-align: right;\n",
       "    }\n",
       "</style>\n",
       "<table border=\"1\" class=\"dataframe\">\n",
       "  <thead>\n",
       "    <tr style=\"text-align: right;\">\n",
       "      <th></th>\n",
       "      <th>clf name</th>\n",
       "      <th>clf accuracy</th>\n",
       "      <th>clf recall</th>\n",
       "      <th>clf precision</th>\n",
       "      <th>clf f1_score</th>\n",
       "    </tr>\n",
       "  </thead>\n",
       "  <tbody>\n",
       "    <tr>\n",
       "      <th>11</th>\n",
       "      <td>XGBClassifier</td>\n",
       "      <td>0.9837</td>\n",
       "      <td>0.99075</td>\n",
       "      <td>0.977192</td>\n",
       "      <td>0.983924</td>\n",
       "    </tr>\n",
       "    <tr>\n",
       "      <th>6</th>\n",
       "      <td>RandomForestClassifier</td>\n",
       "      <td>0.972574</td>\n",
       "      <td>0.983042</td>\n",
       "      <td>0.963243</td>\n",
       "      <td>0.973042</td>\n",
       "    </tr>\n",
       "    <tr>\n",
       "      <th>5</th>\n",
       "      <td>DecisionTreeClassifier</td>\n",
       "      <td>0.961708</td>\n",
       "      <td>0.970195</td>\n",
       "      <td>0.954499</td>\n",
       "      <td>0.962283</td>\n",
       "    </tr>\n",
       "    <tr>\n",
       "      <th>7</th>\n",
       "      <td>AdaBoostClassifier</td>\n",
       "      <td>0.961449</td>\n",
       "      <td>0.967626</td>\n",
       "      <td>0.956323</td>\n",
       "      <td>0.961941</td>\n",
       "    </tr>\n",
       "    <tr>\n",
       "      <th>0</th>\n",
       "      <td>StackingClassifier</td>\n",
       "      <td>0.956274</td>\n",
       "      <td>0.966084</td>\n",
       "      <td>0.948058</td>\n",
       "      <td>0.956987</td>\n",
       "    </tr>\n",
       "    <tr>\n",
       "      <th>3</th>\n",
       "      <td>KNeighborsClassifier</td>\n",
       "      <td>0.950582</td>\n",
       "      <td>0.985098</td>\n",
       "      <td>0.922078</td>\n",
       "      <td>0.952547</td>\n",
       "    </tr>\n",
       "    <tr>\n",
       "      <th>8</th>\n",
       "      <td>GradientBoostingClassifier</td>\n",
       "      <td>0.942303</td>\n",
       "      <td>0.961459</td>\n",
       "      <td>0.926696</td>\n",
       "      <td>0.943758</td>\n",
       "    </tr>\n",
       "    <tr>\n",
       "      <th>9</th>\n",
       "      <td>MLPClassifier</td>\n",
       "      <td>0.938163</td>\n",
       "      <td>0.946557</td>\n",
       "      <td>0.931715</td>\n",
       "      <td>0.939077</td>\n",
       "    </tr>\n",
       "    <tr>\n",
       "      <th>4</th>\n",
       "      <td>SVC</td>\n",
       "      <td>0.927814</td>\n",
       "      <td>0.955293</td>\n",
       "      <td>0.906387</td>\n",
       "      <td>0.930198</td>\n",
       "    </tr>\n",
       "    <tr>\n",
       "      <th>1</th>\n",
       "      <td>LogisticRegression</td>\n",
       "      <td>0.83467</td>\n",
       "      <td>0.84481</td>\n",
       "      <td>0.829884</td>\n",
       "      <td>0.83728</td>\n",
       "    </tr>\n",
       "    <tr>\n",
       "      <th>2</th>\n",
       "      <td>LinearDiscriminantAnalysis</td>\n",
       "      <td>0.831824</td>\n",
       "      <td>0.839157</td>\n",
       "      <td>0.828934</td>\n",
       "      <td>0.834014</td>\n",
       "    </tr>\n",
       "    <tr>\n",
       "      <th>10</th>\n",
       "      <td>SGDClassifier</td>\n",
       "      <td>0.836223</td>\n",
       "      <td>0.796506</td>\n",
       "      <td>0.867375</td>\n",
       "      <td>0.830431</td>\n",
       "    </tr>\n",
       "  </tbody>\n",
       "</table>\n",
       "</div>"
      ],
      "text/plain": [
       "                      clf name clf accuracy clf recall clf precision  \\\n",
       "11               XGBClassifier       0.9837    0.99075      0.977192   \n",
       "6       RandomForestClassifier     0.972574   0.983042      0.963243   \n",
       "5       DecisionTreeClassifier     0.961708   0.970195      0.954499   \n",
       "7           AdaBoostClassifier     0.961449   0.967626      0.956323   \n",
       "0           StackingClassifier     0.956274   0.966084      0.948058   \n",
       "3         KNeighborsClassifier     0.950582   0.985098      0.922078   \n",
       "8   GradientBoostingClassifier     0.942303   0.961459      0.926696   \n",
       "9                MLPClassifier     0.938163   0.946557      0.931715   \n",
       "4                          SVC     0.927814   0.955293      0.906387   \n",
       "1           LogisticRegression      0.83467    0.84481      0.829884   \n",
       "2   LinearDiscriminantAnalysis     0.831824   0.839157      0.828934   \n",
       "10               SGDClassifier     0.836223   0.796506      0.867375   \n",
       "\n",
       "   clf f1_score  \n",
       "11     0.983924  \n",
       "6      0.973042  \n",
       "5      0.962283  \n",
       "7      0.961941  \n",
       "0      0.956987  \n",
       "3      0.952547  \n",
       "8      0.943758  \n",
       "9      0.939077  \n",
       "4      0.930198  \n",
       "1       0.83728  \n",
       "2      0.834014  \n",
       "10     0.830431  "
      ]
     },
     "execution_count": 36,
     "metadata": {},
     "output_type": "execute_result"
    }
   ],
   "source": [
    "X_train,y_train, X_test,y_test= split_norm(X_over_sample, y_over_sample)\n",
    "training(X_train,y_train)"
   ]
  },
  {
   "cell_type": "code",
   "execution_count": 37,
   "id": "45c35174",
   "metadata": {},
   "outputs": [
    {
     "name": "stdout",
     "output_type": "stream",
     "text": [
      "Confusion matrix, without normalization\n",
      "[[1874   45]\n",
      " [  18 1928]]\n"
     ]
    },
    {
     "data": {
      "image/png": "[encoded data removed]",
      "text/plain": [
       "<Figure size 432x288 with 2 Axes>"
      ]
     },
     "metadata": {
      "needs_background": "light"
     },
     "output_type": "display_data"
    }
   ],
   "source": [
    "Model= XGBClassifier(eval_metric='logloss').fit(X_train,y_train)\n",
    "ypred=Model.predict(X_test)\n",
    "cm=confusion_matrix(y_test,ypred)\n",
    "skplot_confusion_matrix(cm,[0,1])"
   ]
  },
  {
   "cell_type": "markdown",
   "id": "dfb14032",
   "metadata": {},
   "source": [
    "### Sur-Échantillonnage  avec ADASYN"
   ]
  },
  {
   "cell_type": "code",
   "execution_count": 38,
   "id": "ca5a7f26",
   "metadata": {},
   "outputs": [],
   "source": [
    "y=df1['Target']\n",
    "X=df1.drop('Target',axis=1)\n",
    "# Sur-Echantillonnage en utilisant la méthode ADASYN\n",
    "X_over_sample, y_over_sample = ADASYN().fit_resample(X,y)"
   ]
  },
  {
   "cell_type": "code",
   "execution_count": 39,
   "id": "a5eaad75",
   "metadata": {},
   "outputs": [
    {
     "name": "stdout",
     "output_type": "stream",
     "text": [
      "Shape of X_train :  (15384, 6)\n",
      "Shape of y_train :  (15384,)\n",
      "Shape of X_test  :  (3846, 6)\n",
      "Shape of y_test  :  (3846,)\n"
     ]
    },
    {
     "name": "stderr",
     "output_type": "stream",
     "text": [
      "100%|██████████████████████████████████████████████████████████████████████████████████| 12/12 [01:09<00:00,  5.80s/it]\n"
     ]
    },
    {
     "data": {
      "text/html": [
       "<div>\n",
       "<style scoped>\n",
       "    .dataframe tbody tr th:only-of-type {\n",
       "        vertical-align: middle;\n",
       "    }\n",
       "\n",
       "    .dataframe tbody tr th {\n",
       "        vertical-align: top;\n",
       "    }\n",
       "\n",
       "    .dataframe thead th {\n",
       "        text-align: right;\n",
       "    }\n",
       "</style>\n",
       "<table border=\"1\" class=\"dataframe\">\n",
       "  <thead>\n",
       "    <tr style=\"text-align: right;\">\n",
       "      <th></th>\n",
       "      <th>clf name</th>\n",
       "      <th>clf accuracy</th>\n",
       "      <th>clf recall</th>\n",
       "      <th>clf precision</th>\n",
       "      <th>clf f1_score</th>\n",
       "    </tr>\n",
       "  </thead>\n",
       "  <tbody>\n",
       "    <tr>\n",
       "      <th>11</th>\n",
       "      <td>XGBClassifier</td>\n",
       "      <td>0.986219</td>\n",
       "      <td>0.990591</td>\n",
       "      <td>0.981865</td>\n",
       "      <td>0.986209</td>\n",
       "    </tr>\n",
       "    <tr>\n",
       "      <th>6</th>\n",
       "      <td>RandomForestClassifier</td>\n",
       "      <td>0.973999</td>\n",
       "      <td>0.984318</td>\n",
       "      <td>0.964158</td>\n",
       "      <td>0.974133</td>\n",
       "    </tr>\n",
       "    <tr>\n",
       "      <th>7</th>\n",
       "      <td>AdaBoostClassifier</td>\n",
       "      <td>0.961258</td>\n",
       "      <td>0.967067</td>\n",
       "      <td>0.955579</td>\n",
       "      <td>0.961289</td>\n",
       "    </tr>\n",
       "    <tr>\n",
       "      <th>0</th>\n",
       "      <td>StackingClassifier</td>\n",
       "      <td>0.959438</td>\n",
       "      <td>0.968636</td>\n",
       "      <td>0.950744</td>\n",
       "      <td>0.959606</td>\n",
       "    </tr>\n",
       "    <tr>\n",
       "      <th>5</th>\n",
       "      <td>DecisionTreeClassifier</td>\n",
       "      <td>0.959438</td>\n",
       "      <td>0.968636</td>\n",
       "      <td>0.950744</td>\n",
       "      <td>0.959606</td>\n",
       "    </tr>\n",
       "    <tr>\n",
       "      <th>3</th>\n",
       "      <td>KNeighborsClassifier</td>\n",
       "      <td>0.952418</td>\n",
       "      <td>0.986932</td>\n",
       "      <td>0.922776</td>\n",
       "      <td>0.953776</td>\n",
       "    </tr>\n",
       "    <tr>\n",
       "      <th>9</th>\n",
       "      <td>MLPClassifier</td>\n",
       "      <td>0.939418</td>\n",
       "      <td>0.95034</td>\n",
       "      <td>0.929448</td>\n",
       "      <td>0.939778</td>\n",
       "    </tr>\n",
       "    <tr>\n",
       "      <th>8</th>\n",
       "      <td>GradientBoostingClassifier</td>\n",
       "      <td>0.938898</td>\n",
       "      <td>0.952953</td>\n",
       "      <td>0.926321</td>\n",
       "      <td>0.939449</td>\n",
       "    </tr>\n",
       "    <tr>\n",
       "      <th>4</th>\n",
       "      <td>SVC</td>\n",
       "      <td>0.922777</td>\n",
       "      <td>0.946158</td>\n",
       "      <td>0.903194</td>\n",
       "      <td>0.924177</td>\n",
       "    </tr>\n",
       "    <tr>\n",
       "      <th>2</th>\n",
       "      <td>LinearDiscriminantAnalysis</td>\n",
       "      <td>0.804992</td>\n",
       "      <td>0.807632</td>\n",
       "      <td>0.801764</td>\n",
       "      <td>0.804687</td>\n",
       "    </tr>\n",
       "    <tr>\n",
       "      <th>1</th>\n",
       "      <td>LogisticRegression</td>\n",
       "      <td>0.803172</td>\n",
       "      <td>0.802405</td>\n",
       "      <td>0.801985</td>\n",
       "      <td>0.802195</td>\n",
       "    </tr>\n",
       "    <tr>\n",
       "      <th>10</th>\n",
       "      <td>SGDClassifier</td>\n",
       "      <td>0.803692</td>\n",
       "      <td>0.731312</td>\n",
       "      <td>0.853049</td>\n",
       "      <td>0.787504</td>\n",
       "    </tr>\n",
       "  </tbody>\n",
       "</table>\n",
       "</div>"
      ],
      "text/plain": [
       "                      clf name clf accuracy clf recall clf precision  \\\n",
       "11               XGBClassifier     0.986219   0.990591      0.981865   \n",
       "6       RandomForestClassifier     0.973999   0.984318      0.964158   \n",
       "7           AdaBoostClassifier     0.961258   0.967067      0.955579   \n",
       "0           StackingClassifier     0.959438   0.968636      0.950744   \n",
       "5       DecisionTreeClassifier     0.959438   0.968636      0.950744   \n",
       "3         KNeighborsClassifier     0.952418   0.986932      0.922776   \n",
       "9                MLPClassifier     0.939418    0.95034      0.929448   \n",
       "8   GradientBoostingClassifier     0.938898   0.952953      0.926321   \n",
       "4                          SVC     0.922777   0.946158      0.903194   \n",
       "2   LinearDiscriminantAnalysis     0.804992   0.807632      0.801764   \n",
       "1           LogisticRegression     0.803172   0.802405      0.801985   \n",
       "10               SGDClassifier     0.803692   0.731312      0.853049   \n",
       "\n",
       "   clf f1_score  \n",
       "11     0.986209  \n",
       "6      0.974133  \n",
       "7      0.961289  \n",
       "0      0.959606  \n",
       "5      0.959606  \n",
       "3      0.953776  \n",
       "9      0.939778  \n",
       "8      0.939449  \n",
       "4      0.924177  \n",
       "2      0.804687  \n",
       "1      0.802195  \n",
       "10     0.787504  "
      ]
     },
     "execution_count": 39,
     "metadata": {},
     "output_type": "execute_result"
    }
   ],
   "source": [
    "X_train,y_train, X_test,y_test= split_norm(X_over_sample, y_over_sample)\n",
    "training(X_train,y_train)"
   ]
  },
  {
   "cell_type": "code",
   "execution_count": 40,
   "id": "754b45e9",
   "metadata": {},
   "outputs": [
    {
     "name": "stdout",
     "output_type": "stream",
     "text": [
      "Confusion matrix, without normalization\n",
      "[[1898   35]\n",
      " [  18 1895]]\n"
     ]
    },
    {
     "data": {
      "image/png": "[encoded data removed]",
      "text/plain": [
       "<Figure size 432x288 with 2 Axes>"
      ]
     },
     "metadata": {
      "needs_background": "light"
     },
     "output_type": "display_data"
    }
   ],
   "source": [
    "Model= XGBClassifier(eval_metric='logloss').fit(X_train,y_train)\n",
    "ypred=Model.predict(X_test)\n",
    "cm=confusion_matrix(y_test,ypred)\n",
    "skplot_confusion_matrix(cm,[0,1])"
   ]
  },
  {
   "cell_type": "markdown",
   "id": "d7e0c18c",
   "metadata": {},
   "source": [
    "### Combinaison de SMOTE et Tomek links 'SMOTETomek'"
   ]
  },
  {
   "cell_type": "code",
   "execution_count": 85,
   "id": "e5a106c8",
   "metadata": {},
   "outputs": [],
   "source": [
    "y=df1['Target']\n",
    "X=df1.drop('Target',axis=1)\n",
    "#Echantillonnage en utilisant la méthode SMOTE et ensuite NearMiss\n",
    "X, y = SMOTETomek(random_state=0).fit_resample(X,y)\n",
    "X_over_sample, y_over_sample = NearMiss().fit_resample(X,y)"
   ]
  },
  {
   "cell_type": "code",
   "execution_count": 86,
   "id": "a152e052",
   "metadata": {},
   "outputs": [
    {
     "name": "stdout",
     "output_type": "stream",
     "text": [
      "Shape of X_train :  (15321, 6)\n",
      "Shape of y_train :  (15321,)\n",
      "Shape of X_test  :  (3831, 6)\n",
      "Shape of y_test  :  (3831,)\n"
     ]
    },
    {
     "name": "stderr",
     "output_type": "stream",
     "text": [
      "100%|██████████████████████████████████████████████████████████████████████████████████| 12/12 [00:49<00:00,  4.16s/it]\n"
     ]
    },
    {
     "data": {
      "text/html": [
       "<div>\n",
       "<style scoped>\n",
       "    .dataframe tbody tr th:only-of-type {\n",
       "        vertical-align: middle;\n",
       "    }\n",
       "\n",
       "    .dataframe tbody tr th {\n",
       "        vertical-align: top;\n",
       "    }\n",
       "\n",
       "    .dataframe thead th {\n",
       "        text-align: right;\n",
       "    }\n",
       "</style>\n",
       "<table border=\"1\" class=\"dataframe\">\n",
       "  <thead>\n",
       "    <tr style=\"text-align: right;\">\n",
       "      <th></th>\n",
       "      <th>clf name</th>\n",
       "      <th>clf accuracy</th>\n",
       "      <th>clf recall</th>\n",
       "      <th>clf precision</th>\n",
       "      <th>clf f1_score</th>\n",
       "    </tr>\n",
       "  </thead>\n",
       "  <tbody>\n",
       "    <tr>\n",
       "      <th>11</th>\n",
       "      <td>XGBClassifier</td>\n",
       "      <td>0.988776</td>\n",
       "      <td>0.992769</td>\n",
       "      <td>0.985136</td>\n",
       "      <td>0.988937</td>\n",
       "    </tr>\n",
       "    <tr>\n",
       "      <th>6</th>\n",
       "      <td>RandomForestClassifier</td>\n",
       "      <td>0.978596</td>\n",
       "      <td>0.98812</td>\n",
       "      <td>0.970081</td>\n",
       "      <td>0.979017</td>\n",
       "    </tr>\n",
       "    <tr>\n",
       "      <th>0</th>\n",
       "      <td>StackingClassifier</td>\n",
       "      <td>0.963717</td>\n",
       "      <td>0.970558</td>\n",
       "      <td>0.958185</td>\n",
       "      <td>0.964332</td>\n",
       "    </tr>\n",
       "    <tr>\n",
       "      <th>5</th>\n",
       "      <td>DecisionTreeClassifier</td>\n",
       "      <td>0.962412</td>\n",
       "      <td>0.965393</td>\n",
       "      <td>0.960432</td>\n",
       "      <td>0.962906</td>\n",
       "    </tr>\n",
       "    <tr>\n",
       "      <th>7</th>\n",
       "      <td>AdaBoostClassifier</td>\n",
       "      <td>0.961368</td>\n",
       "      <td>0.965909</td>\n",
       "      <td>0.957992</td>\n",
       "      <td>0.961934</td>\n",
       "    </tr>\n",
       "    <tr>\n",
       "      <th>3</th>\n",
       "      <td>KNeighborsClassifier</td>\n",
       "      <td>0.957191</td>\n",
       "      <td>0.990186</td>\n",
       "      <td>0.92968</td>\n",
       "      <td>0.958979</td>\n",
       "    </tr>\n",
       "    <tr>\n",
       "      <th>8</th>\n",
       "      <td>GradientBoostingClassifier</td>\n",
       "      <td>0.951188</td>\n",
       "      <td>0.969525</td>\n",
       "      <td>0.93616</td>\n",
       "      <td>0.95255</td>\n",
       "    </tr>\n",
       "    <tr>\n",
       "      <th>9</th>\n",
       "      <td>MLPClassifier</td>\n",
       "      <td>0.943096</td>\n",
       "      <td>0.956095</td>\n",
       "      <td>0.932964</td>\n",
       "      <td>0.944388</td>\n",
       "    </tr>\n",
       "    <tr>\n",
       "      <th>4</th>\n",
       "      <td>SVC</td>\n",
       "      <td>0.935526</td>\n",
       "      <td>0.956095</td>\n",
       "      <td>0.919523</td>\n",
       "      <td>0.937453</td>\n",
       "    </tr>\n",
       "    <tr>\n",
       "      <th>10</th>\n",
       "      <td>SGDClassifier</td>\n",
       "      <td>0.8426</td>\n",
       "      <td>0.839876</td>\n",
       "      <td>0.847316</td>\n",
       "      <td>0.84358</td>\n",
       "    </tr>\n",
       "    <tr>\n",
       "      <th>1</th>\n",
       "      <td>LogisticRegression</td>\n",
       "      <td>0.840512</td>\n",
       "      <td>0.83781</td>\n",
       "      <td>0.845232</td>\n",
       "      <td>0.841505</td>\n",
       "    </tr>\n",
       "    <tr>\n",
       "      <th>2</th>\n",
       "      <td>LinearDiscriminantAnalysis</td>\n",
       "      <td>0.839206</td>\n",
       "      <td>0.831612</td>\n",
       "      <td>0.847368</td>\n",
       "      <td>0.839416</td>\n",
       "    </tr>\n",
       "  </tbody>\n",
       "</table>\n",
       "</div>"
      ],
      "text/plain": [
       "                      clf name clf accuracy clf recall clf precision  \\\n",
       "11               XGBClassifier     0.988776   0.992769      0.985136   \n",
       "6       RandomForestClassifier     0.978596    0.98812      0.970081   \n",
       "0           StackingClassifier     0.963717   0.970558      0.958185   \n",
       "5       DecisionTreeClassifier     0.962412   0.965393      0.960432   \n",
       "7           AdaBoostClassifier     0.961368   0.965909      0.957992   \n",
       "3         KNeighborsClassifier     0.957191   0.990186       0.92968   \n",
       "8   GradientBoostingClassifier     0.951188   0.969525       0.93616   \n",
       "9                MLPClassifier     0.943096   0.956095      0.932964   \n",
       "4                          SVC     0.935526   0.956095      0.919523   \n",
       "10               SGDClassifier       0.8426   0.839876      0.847316   \n",
       "1           LogisticRegression     0.840512    0.83781      0.845232   \n",
       "2   LinearDiscriminantAnalysis     0.839206   0.831612      0.847368   \n",
       "\n",
       "   clf f1_score  \n",
       "11     0.988937  \n",
       "6      0.979017  \n",
       "0      0.964332  \n",
       "5      0.962906  \n",
       "7      0.961934  \n",
       "3      0.958979  \n",
       "8       0.95255  \n",
       "9      0.944388  \n",
       "4      0.937453  \n",
       "10      0.84358  \n",
       "1      0.841505  \n",
       "2      0.839416  "
      ]
     },
     "execution_count": 86,
     "metadata": {},
     "output_type": "execute_result"
    }
   ],
   "source": [
    "X_train,y_train, X_test,y_test= split_norm(X_over_sample, y_over_sample)\n",
    "training(X_train,y_train)"
   ]
  },
  {
   "cell_type": "code",
   "execution_count": 87,
   "id": "dc6a0e72",
   "metadata": {},
   "outputs": [
    {
     "name": "stdout",
     "output_type": "stream",
     "text": [
      "Confusion matrix, without normalization\n",
      "[[1866   29]\n",
      " [  14 1922]]\n"
     ]
    },
    {
     "data": {
      "image/png": "[encoded data removed]",
      "text/plain": [
       "<Figure size 432x288 with 2 Axes>"
      ]
     },
     "metadata": {
      "needs_background": "light"
     },
     "output_type": "display_data"
    }
   ],
   "source": [
    "Model= XGBClassifier(eval_metric='logloss').fit(X_train,y_train)\n",
    "ypred=Model.predict(X_test)\n",
    "cm=confusion_matrix(y_test,ypred)\n",
    "skplot_confusion_matrix(cm,[0,1])"
   ]
  },
  {
   "cell_type": "markdown",
   "id": "0c025539",
   "metadata": {},
   "source": [
    "### Combinaison de SMOTE et NearMiss"
   ]
  },
  {
   "cell_type": "code",
   "execution_count": 88,
   "id": "4af813ea",
   "metadata": {},
   "outputs": [
    {
     "name": "stdout",
     "output_type": "stream",
     "text": [
      "Shape of X_train :  (15457, 6)\n",
      "Shape of y_train :  (15457,)\n",
      "Shape of X_test  :  (3865, 6)\n",
      "Shape of y_test  :  (3865,)\n"
     ]
    },
    {
     "name": "stderr",
     "output_type": "stream",
     "text": [
      "100%|██████████████████████████████████████████████████████████████████████████████████| 12/12 [00:55<00:00,  4.64s/it]\n"
     ]
    },
    {
     "data": {
      "text/html": [
       "<div>\n",
       "<style scoped>\n",
       "    .dataframe tbody tr th:only-of-type {\n",
       "        vertical-align: middle;\n",
       "    }\n",
       "\n",
       "    .dataframe tbody tr th {\n",
       "        vertical-align: top;\n",
       "    }\n",
       "\n",
       "    .dataframe thead th {\n",
       "        text-align: right;\n",
       "    }\n",
       "</style>\n",
       "<table border=\"1\" class=\"dataframe\">\n",
       "  <thead>\n",
       "    <tr style=\"text-align: right;\">\n",
       "      <th></th>\n",
       "      <th>clf name</th>\n",
       "      <th>clf accuracy</th>\n",
       "      <th>clf recall</th>\n",
       "      <th>clf precision</th>\n",
       "      <th>clf f1_score</th>\n",
       "    </tr>\n",
       "  </thead>\n",
       "  <tbody>\n",
       "    <tr>\n",
       "      <th>11</th>\n",
       "      <td>XGBClassifier</td>\n",
       "      <td>0.989392</td>\n",
       "      <td>0.992806</td>\n",
       "      <td>0.986217</td>\n",
       "      <td>0.989501</td>\n",
       "    </tr>\n",
       "    <tr>\n",
       "      <th>6</th>\n",
       "      <td>RandomForestClassifier</td>\n",
       "      <td>0.976714</td>\n",
       "      <td>0.985612</td>\n",
       "      <td>0.968687</td>\n",
       "      <td>0.977076</td>\n",
       "    </tr>\n",
       "    <tr>\n",
       "      <th>5</th>\n",
       "      <td>DecisionTreeClassifier</td>\n",
       "      <td>0.964554</td>\n",
       "      <td>0.969681</td>\n",
       "      <td>0.960305</td>\n",
       "      <td>0.964971</td>\n",
       "    </tr>\n",
       "    <tr>\n",
       "      <th>7</th>\n",
       "      <td>AdaBoostClassifier</td>\n",
       "      <td>0.963777</td>\n",
       "      <td>0.970709</td>\n",
       "      <td>0.957911</td>\n",
       "      <td>0.964267</td>\n",
       "    </tr>\n",
       "    <tr>\n",
       "      <th>0</th>\n",
       "      <td>StackingClassifier</td>\n",
       "      <td>0.963519</td>\n",
       "      <td>0.970709</td>\n",
       "      <td>0.957425</td>\n",
       "      <td>0.964021</td>\n",
       "    </tr>\n",
       "    <tr>\n",
       "      <th>3</th>\n",
       "      <td>KNeighborsClassifier</td>\n",
       "      <td>0.954722</td>\n",
       "      <td>0.985612</td>\n",
       "      <td>0.928814</td>\n",
       "      <td>0.95637</td>\n",
       "    </tr>\n",
       "    <tr>\n",
       "      <th>8</th>\n",
       "      <td>GradientBoostingClassifier</td>\n",
       "      <td>0.948254</td>\n",
       "      <td>0.967626</td>\n",
       "      <td>0.932178</td>\n",
       "      <td>0.949571</td>\n",
       "    </tr>\n",
       "    <tr>\n",
       "      <th>9</th>\n",
       "      <td>MLPClassifier</td>\n",
       "      <td>0.943596</td>\n",
       "      <td>0.953237</td>\n",
       "      <td>0.935923</td>\n",
       "      <td>0.944501</td>\n",
       "    </tr>\n",
       "    <tr>\n",
       "      <th>4</th>\n",
       "      <td>SVC</td>\n",
       "      <td>0.929366</td>\n",
       "      <td>0.955293</td>\n",
       "      <td>0.909046</td>\n",
       "      <td>0.931596</td>\n",
       "    </tr>\n",
       "    <tr>\n",
       "      <th>10</th>\n",
       "      <td>SGDClassifier</td>\n",
       "      <td>0.842432</td>\n",
       "      <td>0.821172</td>\n",
       "      <td>0.859602</td>\n",
       "      <td>0.839947</td>\n",
       "    </tr>\n",
       "    <tr>\n",
       "      <th>1</th>\n",
       "      <td>LogisticRegression</td>\n",
       "      <td>0.837775</td>\n",
       "      <td>0.834018</td>\n",
       "      <td>0.842242</td>\n",
       "      <td>0.83811</td>\n",
       "    </tr>\n",
       "    <tr>\n",
       "      <th>2</th>\n",
       "      <td>LinearDiscriminantAnalysis</td>\n",
       "      <td>0.834411</td>\n",
       "      <td>0.82888</td>\n",
       "      <td>0.840104</td>\n",
       "      <td>0.834454</td>\n",
       "    </tr>\n",
       "  </tbody>\n",
       "</table>\n",
       "</div>"
      ],
      "text/plain": [
       "                      clf name clf accuracy clf recall clf precision  \\\n",
       "11               XGBClassifier     0.989392   0.992806      0.986217   \n",
       "6       RandomForestClassifier     0.976714   0.985612      0.968687   \n",
       "5       DecisionTreeClassifier     0.964554   0.969681      0.960305   \n",
       "7           AdaBoostClassifier     0.963777   0.970709      0.957911   \n",
       "0           StackingClassifier     0.963519   0.970709      0.957425   \n",
       "3         KNeighborsClassifier     0.954722   0.985612      0.928814   \n",
       "8   GradientBoostingClassifier     0.948254   0.967626      0.932178   \n",
       "9                MLPClassifier     0.943596   0.953237      0.935923   \n",
       "4                          SVC     0.929366   0.955293      0.909046   \n",
       "10               SGDClassifier     0.842432   0.821172      0.859602   \n",
       "1           LogisticRegression     0.837775   0.834018      0.842242   \n",
       "2   LinearDiscriminantAnalysis     0.834411    0.82888      0.840104   \n",
       "\n",
       "   clf f1_score  \n",
       "11     0.989501  \n",
       "6      0.977076  \n",
       "5      0.964971  \n",
       "7      0.964267  \n",
       "0      0.964021  \n",
       "3       0.95637  \n",
       "8      0.949571  \n",
       "9      0.944501  \n",
       "4      0.931596  \n",
       "10     0.839947  \n",
       "1       0.83811  \n",
       "2      0.834454  "
      ]
     },
     "execution_count": 88,
     "metadata": {},
     "output_type": "execute_result"
    }
   ],
   "source": [
    "y=df1['Target']\n",
    "X=df1.drop('Target',axis=1)\n",
    "#Echantillonnage en utilisant la méthode SMOTE et ensuite NearMiss\n",
    "X, y = SMOTE(random_state=0).fit_resample(X,y)\n",
    "X_over_sample, y_over_sample = NearMiss().fit_resample(X,y)\n",
    "X_train,y_train, X_test,y_test= split_norm(X_over_sample, y_over_sample)\n",
    "training(X_train,y_train)"
   ]
  },
  {
   "cell_type": "code",
   "execution_count": 94,
   "id": "ff86b38d",
   "metadata": {},
   "outputs": [],
   "source": [
    "from imblearn.ensemble import EasyEnsembleClassifier"
   ]
  },
  {
   "cell_type": "code",
   "execution_count": null,
   "id": "b2a391ea",
   "metadata": {},
   "outputs": [],
   "source": [
    "y=df1['Target']\n",
    "X=df1.drop('Target',axis=1)\n",
    "X_train,y_train, X_test,y_test= split_norm(X_over_sample, y_over_sample)\n"
   ]
  }
 ],
 "metadata": {
  "kernelspec": {
   "display_name": "Python 3 (ipykernel)",
   "language": "python",
   "name": "python3"
  },
  "language_info": {
   "codemirror_mode": {
    "name": "ipython",
    "version": 3
   },
   "file_extension": ".py",
   "mimetype": "text/x-python",
   "name": "python",
   "nbconvert_exporter": "python",
   "pygments_lexer": "ipython3",
   "version": "3.7.11"
  }
 },
 "nbformat": 4,
 "nbformat_minor": 5
}
